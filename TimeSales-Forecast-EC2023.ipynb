{
 "cells": [
  {
   "cell_type": "markdown",
   "id": "d4f70c8c",
   "metadata": {},
   "source": [
    "# SalesProphet: Time Series Forecasting for Store Sales\n",
    "<br>\n",
    "\n",
    "\n",
    "\n",
    "## Project Overview\n",
    "\n",
    "Welcome to the Store Sales Forecasting project! In this project, I'll be working with data from Corporación Favorita, a large grocery retailer in Ecuador. The goal is to predict the sales of various product families in different Favorita stores using time-series forecasting techniques.\n",
    "\n",
    "\n",
    "## Mission\n",
    "\n",
    "The mission in this project is to build a model that can accurately predict the sales of different product families at Favorita stores. By doing so, the aim is to help the grocery retailer optimize their inventory management, reduce food waste, and enhance customer satisfaction.\n",
    "\n",
    "**Evaluate Your Predictions:** https://www.kaggle.com/competitions/store-sales-time-series-forecasting/overview/evaluation)\n",
    "## Why is This Important?\n",
    "\n",
    "Think about how challenging it is for a grocery store to manage their inventory. If a store overstocks, they might end up with perishable goods that go to waste. On the other hand, underestimating demand can lead to popular items running out, disappointing customers, and lost revenue. Accurate forecasting is crucial to strike the right balance.\n",
    "## What's in the Data?\n",
    "\n",
    "The data includes information about:\n",
    "\n",
    "  *  **Stores:** Each store's location, type, and cluster.\n",
    "  *  **Products:** Different types of products (product families) sold.\n",
    "  *  **Sales:** Historical sales data for each product family at each store.\n",
    "  *  **Promotions:** Whether a product family was being promoted at a store.\n",
    "  *  **Oil Prices:** Daily oil prices, which can influence economic conditions.\n",
    "  *  **Holidays and Events:** Information about holidays and special events.\n",
    "\n",
    "**Access the Data:** https://www.kaggle.com/competitions/store-sales-time-series-forecasting/data)\n",
    "## How Success Will Be Measured\n",
    "\n",
    "To evaluate the model's performance, I'll use a metric called the Root Mean Squared Logarithmic Error (RMSLE). This metric helps us understand how well predictions align with the actual sales values.\n",
    "## Potential Impact\n",
    "\n",
    "By building an accurate sales forecasting model, I contribute to reducing food waste, improving inventory management, and ultimately enhancing the shopping experience for customers. The insights gained from this project can have a real-world impact on the operations of brick-and-mortar grocery stores.\n",
    "Next Steps\n",
    "\n",
    "Let's create a model that empowers grocery stores to make more informed decisions about their inventory and sales strategies."
   ]
  },
  {
   "cell_type": "markdown",
   "id": "9939c375",
   "metadata": {},
   "source": [
    "<br>\n",
    "<br>\n",
    "<div style=\"border-top: 1px solid;\"></div>\n",
    "\n",
    " \n",
    "## Importing the necessary libraries\n",
    "\n",
    "These libraries include tools for data manipulation (numpy, pandas), visualization (matplotlib, seaborn), preprocessing (OneHotEncoder, ColumnTransformer), and modeling (LogisticRegression, KNeighborsClassifier, etc.). These tools provide the foundation for data analysis, feature engineering, and building predictive models."
   ]
  },
  {
   "cell_type": "code",
   "execution_count": 1,
   "id": "f384b2cf",
   "metadata": {},
   "outputs": [],
   "source": [
    "# Data Manipulation and Analysis\n",
    "import numpy as np\n",
    "import pandas as pd\n",
    "from sklearn.preprocessing import MinMaxScaler, StandardScaler\n",
    "\n",
    "# Data Visualization\n",
    "import matplotlib.pyplot as plt\n",
    "import seaborn as sns\n",
    "import matplotlib.dates as mdates\n",
    "\n",
    "# Import machine learning algorithms for Regression\n",
    "from sklearn.linear_model import LinearRegression\n",
    "from sklearn.linear_model import LinearRegression\n",
    "from sklearn.neighbors import KNeighborsRegressor\n",
    "from sklearn.tree import DecisionTreeRegressor\n",
    "from sklearn.ensemble import RandomForestRegressor\n",
    "from sklearn.svm import SVR\n",
    "\n",
    "# Model Evaluations\n",
    "from sklearn.model_selection import RandomizedSearchCV, GridSearchCV\n",
    "from sklearn.metrics import mean_squared_log_error, mean_absolute_error, r2_score\n",
    "from sklearn.metrics import mean_squared_error, r2_score\n",
    "from sklearn.model_selection import train_test_split"
   ]
  },
  {
   "cell_type": "code",
   "execution_count": 2,
   "id": "67346910",
   "metadata": {},
   "outputs": [],
   "source": [
    "# Ignore warnings (optional)\n",
    "import warnings\n",
    "warnings.filterwarnings(\"ignore\")"
   ]
  },
  {
   "cell_type": "markdown",
   "id": "41609b35",
   "metadata": {},
   "source": [
    "<br>\n",
    "<br>\n",
    "<div style=\"border-top: 1px solid;\"></div>\n",
    "\n",
    "\n",
    "## Data Analysis\n",
    "### Data Loading\n",
    "\n",
    "I begin by loading the necessary datasets using pandas. These datasets will serve as the foundation for my analysis and modeling.\n"
   ]
  },
  {
   "cell_type": "code",
   "execution_count": 3,
   "id": "745034df",
   "metadata": {},
   "outputs": [],
   "source": [
    "# Load the datasets using pandas\n",
    "train_data = pd.read_csv(\"sales-time-forecast-datasets/train.csv\", low_memory=True)\n",
    "holiday_data = pd.read_csv(\"sales-time-forecast-datasets/holidays_events.csv\")\n",
    "oil_data = pd.read_csv(\"sales-time-forecast-datasets/oil.csv\")\n",
    "stores_data = pd.read_csv(\"sales-time-forecast-datasets/stores.csv\")\n",
    "transactions_data = pd.read_csv(\"sales-time-forecast-datasets/transactions.csv\")"
   ]
  },
  {
   "cell_type": "markdown",
   "id": "cf2af726",
   "metadata": {},
   "source": [
    "### Exploring Datasets\n",
    "\n",
    "Now, let's explore each dataset to understand their contents, structure, and relationships.\n",
    "\n",
    "#### Train Data\n",
    "\n",
    "The `train_data` dataset contains information about product sales at Favorita stores in Ecuador.\n",
    "\n",
    "- **id:** Unique identifier for each record.\n",
    "- **date:** The date of the sales data.\n",
    "- **store_nbr:** Store number where the product was sold.\n",
    "- **family:** Type of product family.\n",
    "- **sales:** Total sales for a product family at a particular store on the given date.\n",
    "- **onpromotion:** Number of items in a product family being promoted at the store on the given date.\n"
   ]
  },
  {
   "cell_type": "code",
   "execution_count": 4,
   "id": "1db1a558",
   "metadata": {},
   "outputs": [
    {
     "data": {
      "text/html": [
       "<div>\n",
       "<style scoped>\n",
       "    .dataframe tbody tr th:only-of-type {\n",
       "        vertical-align: middle;\n",
       "    }\n",
       "\n",
       "    .dataframe tbody tr th {\n",
       "        vertical-align: top;\n",
       "    }\n",
       "\n",
       "    .dataframe thead th {\n",
       "        text-align: right;\n",
       "    }\n",
       "</style>\n",
       "<table border=\"1\" class=\"dataframe\">\n",
       "  <thead>\n",
       "    <tr style=\"text-align: right;\">\n",
       "      <th></th>\n",
       "      <th>id</th>\n",
       "      <th>date</th>\n",
       "      <th>store_nbr</th>\n",
       "      <th>family</th>\n",
       "      <th>sales</th>\n",
       "      <th>onpromotion</th>\n",
       "    </tr>\n",
       "  </thead>\n",
       "  <tbody>\n",
       "    <tr>\n",
       "      <th>0</th>\n",
       "      <td>0</td>\n",
       "      <td>2013-01-01</td>\n",
       "      <td>1</td>\n",
       "      <td>AUTOMOTIVE</td>\n",
       "      <td>0.0</td>\n",
       "      <td>0</td>\n",
       "    </tr>\n",
       "    <tr>\n",
       "      <th>1</th>\n",
       "      <td>1</td>\n",
       "      <td>2013-01-01</td>\n",
       "      <td>1</td>\n",
       "      <td>BABY CARE</td>\n",
       "      <td>0.0</td>\n",
       "      <td>0</td>\n",
       "    </tr>\n",
       "    <tr>\n",
       "      <th>2</th>\n",
       "      <td>2</td>\n",
       "      <td>2013-01-01</td>\n",
       "      <td>1</td>\n",
       "      <td>BEAUTY</td>\n",
       "      <td>0.0</td>\n",
       "      <td>0</td>\n",
       "    </tr>\n",
       "    <tr>\n",
       "      <th>3</th>\n",
       "      <td>3</td>\n",
       "      <td>2013-01-01</td>\n",
       "      <td>1</td>\n",
       "      <td>BEVERAGES</td>\n",
       "      <td>0.0</td>\n",
       "      <td>0</td>\n",
       "    </tr>\n",
       "    <tr>\n",
       "      <th>4</th>\n",
       "      <td>4</td>\n",
       "      <td>2013-01-01</td>\n",
       "      <td>1</td>\n",
       "      <td>BOOKS</td>\n",
       "      <td>0.0</td>\n",
       "      <td>0</td>\n",
       "    </tr>\n",
       "  </tbody>\n",
       "</table>\n",
       "</div>"
      ],
      "text/plain": [
       "   id        date  store_nbr      family  sales  onpromotion\n",
       "0   0  2013-01-01          1  AUTOMOTIVE    0.0            0\n",
       "1   1  2013-01-01          1   BABY CARE    0.0            0\n",
       "2   2  2013-01-01          1      BEAUTY    0.0            0\n",
       "3   3  2013-01-01          1   BEVERAGES    0.0            0\n",
       "4   4  2013-01-01          1       BOOKS    0.0            0"
      ]
     },
     "execution_count": 4,
     "metadata": {},
     "output_type": "execute_result"
    }
   ],
   "source": [
    "train_data.loc[:4]"
   ]
  },
  {
   "cell_type": "code",
   "execution_count": 5,
   "id": "8e163aa3",
   "metadata": {},
   "outputs": [
    {
     "name": "stdout",
     "output_type": "stream",
     "text": [
      "<class 'pandas.core.frame.DataFrame'>\n",
      "RangeIndex: 3000888 entries, 0 to 3000887\n",
      "Data columns (total 6 columns):\n",
      " #   Column       Dtype  \n",
      "---  ------       -----  \n",
      " 0   id           int64  \n",
      " 1   date         object \n",
      " 2   store_nbr    int64  \n",
      " 3   family       object \n",
      " 4   sales        float64\n",
      " 5   onpromotion  int64  \n",
      "dtypes: float64(1), int64(3), object(2)\n",
      "memory usage: 137.4+ MB\n"
     ]
    }
   ],
   "source": [
    "# Display basic information about the train data\n",
    "train_data.info()"
   ]
  },
  {
   "cell_type": "markdown",
   "id": "bb2e2411",
   "metadata": {},
   "source": [
    "#### Holiday Data\n",
    "\n",
    "The `holiday_data` dataset includes information about holidays and events.\n",
    "\n",
    "  *  **date:** The date of the holiday or event.\n",
    "  *  **type:** Type of holiday or event.\n",
    "  *  **locale:** Locale type (e.g., local, regional).\n",
    "   * **locale_name:** Name of the locale.\n",
    "   * **description:** Description of the holiday or event.\n",
    "   * **transferred:** Indicates if the holiday was transferred to another date."
   ]
  },
  {
   "cell_type": "code",
   "execution_count": 6,
   "id": "8d516d1c",
   "metadata": {},
   "outputs": [
    {
     "data": {
      "text/html": [
       "<div>\n",
       "<style scoped>\n",
       "    .dataframe tbody tr th:only-of-type {\n",
       "        vertical-align: middle;\n",
       "    }\n",
       "\n",
       "    .dataframe tbody tr th {\n",
       "        vertical-align: top;\n",
       "    }\n",
       "\n",
       "    .dataframe thead th {\n",
       "        text-align: right;\n",
       "    }\n",
       "</style>\n",
       "<table border=\"1\" class=\"dataframe\">\n",
       "  <thead>\n",
       "    <tr style=\"text-align: right;\">\n",
       "      <th></th>\n",
       "      <th>date</th>\n",
       "      <th>type</th>\n",
       "      <th>locale</th>\n",
       "      <th>locale_name</th>\n",
       "      <th>description</th>\n",
       "      <th>transferred</th>\n",
       "    </tr>\n",
       "  </thead>\n",
       "  <tbody>\n",
       "    <tr>\n",
       "      <th>0</th>\n",
       "      <td>2012-03-02</td>\n",
       "      <td>Holiday</td>\n",
       "      <td>Local</td>\n",
       "      <td>Manta</td>\n",
       "      <td>Fundacion de Manta</td>\n",
       "      <td>False</td>\n",
       "    </tr>\n",
       "    <tr>\n",
       "      <th>1</th>\n",
       "      <td>2012-04-01</td>\n",
       "      <td>Holiday</td>\n",
       "      <td>Regional</td>\n",
       "      <td>Cotopaxi</td>\n",
       "      <td>Provincializacion de Cotopaxi</td>\n",
       "      <td>False</td>\n",
       "    </tr>\n",
       "    <tr>\n",
       "      <th>2</th>\n",
       "      <td>2012-04-12</td>\n",
       "      <td>Holiday</td>\n",
       "      <td>Local</td>\n",
       "      <td>Cuenca</td>\n",
       "      <td>Fundacion de Cuenca</td>\n",
       "      <td>False</td>\n",
       "    </tr>\n",
       "    <tr>\n",
       "      <th>3</th>\n",
       "      <td>2012-04-14</td>\n",
       "      <td>Holiday</td>\n",
       "      <td>Local</td>\n",
       "      <td>Libertad</td>\n",
       "      <td>Cantonizacion de Libertad</td>\n",
       "      <td>False</td>\n",
       "    </tr>\n",
       "    <tr>\n",
       "      <th>4</th>\n",
       "      <td>2012-04-21</td>\n",
       "      <td>Holiday</td>\n",
       "      <td>Local</td>\n",
       "      <td>Riobamba</td>\n",
       "      <td>Cantonizacion de Riobamba</td>\n",
       "      <td>False</td>\n",
       "    </tr>\n",
       "  </tbody>\n",
       "</table>\n",
       "</div>"
      ],
      "text/plain": [
       "         date     type    locale locale_name                    description  \\\n",
       "0  2012-03-02  Holiday     Local       Manta             Fundacion de Manta   \n",
       "1  2012-04-01  Holiday  Regional    Cotopaxi  Provincializacion de Cotopaxi   \n",
       "2  2012-04-12  Holiday     Local      Cuenca            Fundacion de Cuenca   \n",
       "3  2012-04-14  Holiday     Local    Libertad      Cantonizacion de Libertad   \n",
       "4  2012-04-21  Holiday     Local    Riobamba      Cantonizacion de Riobamba   \n",
       "\n",
       "   transferred  \n",
       "0        False  \n",
       "1        False  \n",
       "2        False  \n",
       "3        False  \n",
       "4        False  "
      ]
     },
     "execution_count": 6,
     "metadata": {},
     "output_type": "execute_result"
    }
   ],
   "source": [
    "holiday_data.head()"
   ]
  },
  {
   "cell_type": "code",
   "execution_count": 7,
   "id": "b30cca04",
   "metadata": {},
   "outputs": [
    {
     "name": "stdout",
     "output_type": "stream",
     "text": [
      "<class 'pandas.core.frame.DataFrame'>\n",
      "RangeIndex: 350 entries, 0 to 349\n",
      "Data columns (total 6 columns):\n",
      " #   Column       Non-Null Count  Dtype \n",
      "---  ------       --------------  ----- \n",
      " 0   date         350 non-null    object\n",
      " 1   type         350 non-null    object\n",
      " 2   locale       350 non-null    object\n",
      " 3   locale_name  350 non-null    object\n",
      " 4   description  350 non-null    object\n",
      " 5   transferred  350 non-null    bool  \n",
      "dtypes: bool(1), object(5)\n",
      "memory usage: 14.1+ KB\n"
     ]
    }
   ],
   "source": [
    "# Display basic information about the holiday data\n",
    "holiday_data.info()"
   ]
  },
  {
   "cell_type": "markdown",
   "id": "8d0570eb",
   "metadata": {},
   "source": [
    "\n",
    "\n",
    "\n",
    "\n",
    "#### Oil Data\n",
    "\n",
    "The `oil_data` dataset provides daily oil price data.\n",
    "\n",
    "  *  **date:** The date of the oil price data.\n",
    "  *  **dcoilwtico:** Daily oil price (WTI crude oil)."
   ]
  },
  {
   "cell_type": "code",
   "execution_count": 8,
   "id": "73ed9f68",
   "metadata": {},
   "outputs": [
    {
     "data": {
      "text/html": [
       "<div>\n",
       "<style scoped>\n",
       "    .dataframe tbody tr th:only-of-type {\n",
       "        vertical-align: middle;\n",
       "    }\n",
       "\n",
       "    .dataframe tbody tr th {\n",
       "        vertical-align: top;\n",
       "    }\n",
       "\n",
       "    .dataframe thead th {\n",
       "        text-align: right;\n",
       "    }\n",
       "</style>\n",
       "<table border=\"1\" class=\"dataframe\">\n",
       "  <thead>\n",
       "    <tr style=\"text-align: right;\">\n",
       "      <th></th>\n",
       "      <th>date</th>\n",
       "      <th>dcoilwtico</th>\n",
       "    </tr>\n",
       "  </thead>\n",
       "  <tbody>\n",
       "    <tr>\n",
       "      <th>0</th>\n",
       "      <td>2013-01-01</td>\n",
       "      <td>NaN</td>\n",
       "    </tr>\n",
       "    <tr>\n",
       "      <th>1</th>\n",
       "      <td>2013-01-02</td>\n",
       "      <td>93.14</td>\n",
       "    </tr>\n",
       "    <tr>\n",
       "      <th>2</th>\n",
       "      <td>2013-01-03</td>\n",
       "      <td>92.97</td>\n",
       "    </tr>\n",
       "    <tr>\n",
       "      <th>3</th>\n",
       "      <td>2013-01-04</td>\n",
       "      <td>93.12</td>\n",
       "    </tr>\n",
       "    <tr>\n",
       "      <th>4</th>\n",
       "      <td>2013-01-07</td>\n",
       "      <td>93.20</td>\n",
       "    </tr>\n",
       "  </tbody>\n",
       "</table>\n",
       "</div>"
      ],
      "text/plain": [
       "         date  dcoilwtico\n",
       "0  2013-01-01         NaN\n",
       "1  2013-01-02       93.14\n",
       "2  2013-01-03       92.97\n",
       "3  2013-01-04       93.12\n",
       "4  2013-01-07       93.20"
      ]
     },
     "execution_count": 8,
     "metadata": {},
     "output_type": "execute_result"
    }
   ],
   "source": [
    "oil_data.head()"
   ]
  },
  {
   "cell_type": "code",
   "execution_count": 9,
   "id": "39e973b1",
   "metadata": {},
   "outputs": [
    {
     "name": "stdout",
     "output_type": "stream",
     "text": [
      "<class 'pandas.core.frame.DataFrame'>\n",
      "RangeIndex: 1218 entries, 0 to 1217\n",
      "Data columns (total 2 columns):\n",
      " #   Column      Non-Null Count  Dtype  \n",
      "---  ------      --------------  -----  \n",
      " 0   date        1218 non-null   object \n",
      " 1   dcoilwtico  1175 non-null   float64\n",
      "dtypes: float64(1), object(1)\n",
      "memory usage: 19.2+ KB\n"
     ]
    }
   ],
   "source": [
    "# Display basic information about the oil data\n",
    "oil_data.info()"
   ]
  },
  {
   "cell_type": "markdown",
   "id": "1689a0be",
   "metadata": {},
   "source": [
    "#### Stores Data\n",
    "\n",
    "The `stores_data` dataset contains metadata about stores.\n",
    "\n",
    "  *  **store_nbr:** Store number.\n",
    "  *  **city:** City where the store is located.\n",
    "  *  **state:** State where the store is located.\n",
    "  *  **type:** Type of store.\n",
    "  *  **cluster:** Grouping of similar stores."
   ]
  },
  {
   "cell_type": "code",
   "execution_count": 10,
   "id": "331c0599",
   "metadata": {},
   "outputs": [
    {
     "data": {
      "text/html": [
       "<div>\n",
       "<style scoped>\n",
       "    .dataframe tbody tr th:only-of-type {\n",
       "        vertical-align: middle;\n",
       "    }\n",
       "\n",
       "    .dataframe tbody tr th {\n",
       "        vertical-align: top;\n",
       "    }\n",
       "\n",
       "    .dataframe thead th {\n",
       "        text-align: right;\n",
       "    }\n",
       "</style>\n",
       "<table border=\"1\" class=\"dataframe\">\n",
       "  <thead>\n",
       "    <tr style=\"text-align: right;\">\n",
       "      <th></th>\n",
       "      <th>store_nbr</th>\n",
       "      <th>city</th>\n",
       "      <th>state</th>\n",
       "      <th>type</th>\n",
       "      <th>cluster</th>\n",
       "    </tr>\n",
       "  </thead>\n",
       "  <tbody>\n",
       "    <tr>\n",
       "      <th>0</th>\n",
       "      <td>1</td>\n",
       "      <td>Quito</td>\n",
       "      <td>Pichincha</td>\n",
       "      <td>D</td>\n",
       "      <td>13</td>\n",
       "    </tr>\n",
       "    <tr>\n",
       "      <th>1</th>\n",
       "      <td>2</td>\n",
       "      <td>Quito</td>\n",
       "      <td>Pichincha</td>\n",
       "      <td>D</td>\n",
       "      <td>13</td>\n",
       "    </tr>\n",
       "    <tr>\n",
       "      <th>2</th>\n",
       "      <td>3</td>\n",
       "      <td>Quito</td>\n",
       "      <td>Pichincha</td>\n",
       "      <td>D</td>\n",
       "      <td>8</td>\n",
       "    </tr>\n",
       "    <tr>\n",
       "      <th>3</th>\n",
       "      <td>4</td>\n",
       "      <td>Quito</td>\n",
       "      <td>Pichincha</td>\n",
       "      <td>D</td>\n",
       "      <td>9</td>\n",
       "    </tr>\n",
       "    <tr>\n",
       "      <th>4</th>\n",
       "      <td>5</td>\n",
       "      <td>Santo Domingo</td>\n",
       "      <td>Santo Domingo de los Tsachilas</td>\n",
       "      <td>D</td>\n",
       "      <td>4</td>\n",
       "    </tr>\n",
       "  </tbody>\n",
       "</table>\n",
       "</div>"
      ],
      "text/plain": [
       "   store_nbr           city                           state type  cluster\n",
       "0          1          Quito                       Pichincha    D       13\n",
       "1          2          Quito                       Pichincha    D       13\n",
       "2          3          Quito                       Pichincha    D        8\n",
       "3          4          Quito                       Pichincha    D        9\n",
       "4          5  Santo Domingo  Santo Domingo de los Tsachilas    D        4"
      ]
     },
     "execution_count": 10,
     "metadata": {},
     "output_type": "execute_result"
    }
   ],
   "source": [
    "stores_data.head()"
   ]
  },
  {
   "cell_type": "code",
   "execution_count": 11,
   "id": "5161becd",
   "metadata": {},
   "outputs": [
    {
     "name": "stdout",
     "output_type": "stream",
     "text": [
      "<class 'pandas.core.frame.DataFrame'>\n",
      "RangeIndex: 54 entries, 0 to 53\n",
      "Data columns (total 5 columns):\n",
      " #   Column     Non-Null Count  Dtype \n",
      "---  ------     --------------  ----- \n",
      " 0   store_nbr  54 non-null     int64 \n",
      " 1   city       54 non-null     object\n",
      " 2   state      54 non-null     object\n",
      " 3   type       54 non-null     object\n",
      " 4   cluster    54 non-null     int64 \n",
      "dtypes: int64(2), object(3)\n",
      "memory usage: 2.2+ KB\n"
     ]
    }
   ],
   "source": [
    "# Display basic information about the stores data\n",
    "stores_data.info()"
   ]
  },
  {
   "cell_type": "markdown",
   "id": "e7365fe3",
   "metadata": {},
   "source": [
    "#### Transactions Data\n",
    "\n",
    "The `transactions_data` dataset includes information about transactions at stores.\n",
    "\n",
    "  *  **date:** The date of the transaction data.\n",
    "  *  **store_nbr:** Store number.\n",
    "  *  **transactions:** Number of transactions at the store on the given date."
   ]
  },
  {
   "cell_type": "code",
   "execution_count": 12,
   "id": "d99906a0",
   "metadata": {},
   "outputs": [
    {
     "data": {
      "text/html": [
       "<div>\n",
       "<style scoped>\n",
       "    .dataframe tbody tr th:only-of-type {\n",
       "        vertical-align: middle;\n",
       "    }\n",
       "\n",
       "    .dataframe tbody tr th {\n",
       "        vertical-align: top;\n",
       "    }\n",
       "\n",
       "    .dataframe thead th {\n",
       "        text-align: right;\n",
       "    }\n",
       "</style>\n",
       "<table border=\"1\" class=\"dataframe\">\n",
       "  <thead>\n",
       "    <tr style=\"text-align: right;\">\n",
       "      <th></th>\n",
       "      <th>date</th>\n",
       "      <th>store_nbr</th>\n",
       "      <th>transactions</th>\n",
       "    </tr>\n",
       "  </thead>\n",
       "  <tbody>\n",
       "    <tr>\n",
       "      <th>0</th>\n",
       "      <td>2013-01-01</td>\n",
       "      <td>25</td>\n",
       "      <td>770</td>\n",
       "    </tr>\n",
       "    <tr>\n",
       "      <th>1</th>\n",
       "      <td>2013-01-02</td>\n",
       "      <td>1</td>\n",
       "      <td>2111</td>\n",
       "    </tr>\n",
       "    <tr>\n",
       "      <th>2</th>\n",
       "      <td>2013-01-02</td>\n",
       "      <td>2</td>\n",
       "      <td>2358</td>\n",
       "    </tr>\n",
       "    <tr>\n",
       "      <th>3</th>\n",
       "      <td>2013-01-02</td>\n",
       "      <td>3</td>\n",
       "      <td>3487</td>\n",
       "    </tr>\n",
       "    <tr>\n",
       "      <th>4</th>\n",
       "      <td>2013-01-02</td>\n",
       "      <td>4</td>\n",
       "      <td>1922</td>\n",
       "    </tr>\n",
       "  </tbody>\n",
       "</table>\n",
       "</div>"
      ],
      "text/plain": [
       "         date  store_nbr  transactions\n",
       "0  2013-01-01         25           770\n",
       "1  2013-01-02          1          2111\n",
       "2  2013-01-02          2          2358\n",
       "3  2013-01-02          3          3487\n",
       "4  2013-01-02          4          1922"
      ]
     },
     "execution_count": 12,
     "metadata": {},
     "output_type": "execute_result"
    }
   ],
   "source": [
    "transactions_data.head()"
   ]
  },
  {
   "cell_type": "code",
   "execution_count": 13,
   "id": "ad4c3bbf",
   "metadata": {},
   "outputs": [
    {
     "name": "stdout",
     "output_type": "stream",
     "text": [
      "<class 'pandas.core.frame.DataFrame'>\n",
      "RangeIndex: 83488 entries, 0 to 83487\n",
      "Data columns (total 3 columns):\n",
      " #   Column        Non-Null Count  Dtype \n",
      "---  ------        --------------  ----- \n",
      " 0   date          83488 non-null  object\n",
      " 1   store_nbr     83488 non-null  int64 \n",
      " 2   transactions  83488 non-null  int64 \n",
      "dtypes: int64(2), object(1)\n",
      "memory usage: 1.9+ MB\n"
     ]
    }
   ],
   "source": [
    "# Display basic information about the transactions data\n",
    "transactions_data.info()"
   ]
  },
  {
   "cell_type": "markdown",
   "id": "9df2f6f2",
   "metadata": {},
   "source": [
    "### Visualizing Sales by Product Family\n",
    "\n",
    "The provided code snippet generates a bar plot that showcases the distribution of total sales among different product families.\n",
    "\n",
    "**What the Plot Shows:**\n",
    "\n",
    "The plot displays product family names on the x-axis and the total sales for each family on the y-axis. Each bar's height represents the sum of sales for a specific product family. The family labels have been formatted to start with a capitalized first letter and lowercase for the rest of the letters, enhancing readability.\n",
    "\n",
    "This visualization allows us to quickly grasp the sales performance of various product families and identify which families contribute the most to the overall sales. It provides a valuable overview of how different product categories perform in terms of sales.\n"
   ]
  },
  {
   "cell_type": "code",
   "execution_count": 14,
   "id": "bb09587c",
   "metadata": {
    "scrolled": false
   },
   "outputs": [
    {
     "data": {
      "image/png": "[encoded data removed]",
      "text/plain": [
       "<Figure size 1000x500 with 1 Axes>"
      ]
     },
     "metadata": {},
     "output_type": "display_data"
    }
   ],
   "source": [
    "sns.set_style(\"whitegrid\")\n",
    "\n",
    "# Grouping 'sales' by 'family' and calculating the mean sales for each family\n",
    "sales_by_family = train_data.groupby('family')['sales'].sum()\n",
    "\n",
    "\n",
    "# Converting the family names to lowercase with first letter capitalized\n",
    "family_labels = [f'{family[0]}{family[1:].lower()}' for family in sales_by_family.index]\n",
    "\n",
    "# Creating a bar plot\n",
    "plt.figure(figsize=(10, 5))\n",
    "sns.barplot(x=family_labels, y=sales_by_family.values, palette=\"bright\")\n",
    "plt.xticks(rotation=45, ha=\"right\")\n",
    "plt.xlabel('Product Family')\n",
    "plt.ylabel('Sum Sales')\n",
    "plt.title('Sum Sales by Product Family')\n",
    "plt.tight_layout();"
   ]
  },
  {
   "cell_type": "markdown",
   "id": "af2ab4b4",
   "metadata": {},
   "source": [
    "### Monthly Sales Trend Visualization\n",
    "\n",
    "The provided code snippet generates a line plot that visually presents the trend of monthly sales over time using the 'Train Data' dataset.\n",
    "\n",
    "**What the Plot Shows:**\n",
    "\n",
    "The plot displays a blue line with circular markers that represents the trend of monthly sales. Each point on the line corresponds to a month, and its vertical position on the plot indicates the total sales for that month. By observing the direction and slope of the line, you can quickly identify whether sales are increasing, decreasing, or fluctuating over time. This visualization provides valuable insights into the sales patterns and trends within the dataset's timeframe."
   ]
  },
  {
   "cell_type": "code",
   "execution_count": 15,
   "id": "38bfdafb",
   "metadata": {},
   "outputs": [
    {
     "data": {
      "image/png": "[encoded data removed]",
      "text/plain": [
       "<Figure size 1200x500 with 1 Axes>"
      ]
     },
     "metadata": {},
     "output_type": "display_data"
    }
   ],
   "source": [
    "# Train Data: Line plot for sales over time (downsampled to monthly)\n",
    "train_data['date'] = pd.to_datetime(train_data['date'])\n",
    "train_data_monthly = train_data.resample('M', on='date').sum()\n",
    "\n",
    "# Set up the plot figure with enhanced aesthetics\n",
    "plt.figure(figsize=(12, 5))\n",
    "sns.set(style=\"whitegrid\")  \n",
    "\n",
    "# Plotting the data with markers and custom color\n",
    "plt.plot(train_data_monthly.index, train_data_monthly['sales'], marker='o', color=\"#0394fc\", label='Monthly Sales')\n",
    "\n",
    "# Adding title and axis labels with adjusted font sizes\n",
    "plt.title('Monthly Sales Trend', fontsize=16)\n",
    "plt.xlabel('Date', fontsize=14)\n",
    "plt.ylabel('Sales', fontsize=14)\n",
    "\n",
    "plt.xticks(rotation=45)\n",
    "plt.legend(fontsize=12)\n",
    "plt.tight_layout();"
   ]
  },
  {
   "cell_type": "markdown",
   "id": "611e5310",
   "metadata": {},
   "source": [
    "### Holiday Counts Over Time\n",
    "\n",
    "The provided code generates a line plot to showcase the fluctuation in holiday counts over time using the 'Holiday Data' dataset.\n",
    "\n",
    "**What the Plot Shows:**\n",
    "\n",
    "The plot visually represents the changes in the count of holidays for each month over the dataset's time span. The x-axis displays time (in months), and the y-axis represents the holiday count. Each orange marker on the line corresponds to a specific month's holiday count. By examining the line's shape and markers, you can identify any patterns, spikes, or trends in holiday occurrences throughout the dataset. This visualization provides insights into the distribution of holidays over time."
   ]
  },
  {
   "cell_type": "code",
   "execution_count": 16,
   "id": "94cd38b2",
   "metadata": {
    "scrolled": false
   },
   "outputs": [
    {
     "data": {
      "image/png": "[encoded data removed]",
      "text/plain": [
       "<Figure size 1200x500 with 1 Axes>"
      ]
     },
     "metadata": {},
     "output_type": "display_data"
    }
   ],
   "source": [
    "# Convert the 'date' column to datetime format\n",
    "holiday_data['date'] = pd.to_datetime(holiday_data['date'])\n",
    "\n",
    "# Count of Holidays Over Time (Line Plot)\n",
    "plt.figure(figsize=(12, 5))\n",
    "holiday_count = holiday_data.resample('M', on='date').size()\n",
    "plt.plot(holiday_count.index, holiday_count, marker='o', color='#fc7f03')\n",
    "plt.xlabel('Date')\n",
    "plt.ylabel('Holiday Count')\n",
    "plt.title('Holiday Counts Over Time', fontsize=16)\n",
    "plt.xticks(rotation=0)\n",
    "plt.tight_layout()\n",
    "plt.show()\n",
    "\n"
   ]
  },
  {
   "cell_type": "markdown",
   "id": "57e5bdb8",
   "metadata": {},
   "source": [
    "## Exploring Holiday Types and Locale Distribution\n",
    "\n",
    "The provided code generates subplots to visually analyze the distribution of holiday types and the locale-wise distribution of holidays using the 'Holiday Data' dataset.\n",
    "\n",
    "#### Subplot 1: Distribution of Holiday Types\n",
    "\n",
    "In the top-left subplot, the distribution of different holiday types is displayed using a count plot. This plot illustrates the frequency of each holiday type. The x-axis represents the various holiday types, while the y-axis represents the count of each type. The title \"Distribution of Holiday Types\" emphasizes the purpose of this visualization.\n",
    "\n",
    "#### Subplot 2: Locale-wise Distribution of Holidays\n",
    "\n",
    "The top-right subplot showcases the distribution of holidays across different locales. This is achieved through another count plot. Here, the x-axis represents the locales, and the y-axis represents the count of holidays in each locale. The title \"Locale-wise Distribution of Holidays\" provides context for understanding the content of the plot.3 e"
   ]
  },
  {
   "cell_type": "code",
   "execution_count": 17,
   "id": "57313e27",
   "metadata": {},
   "outputs": [
    {
     "data": {
      "image/png": "[encoded data removed]",
      "text/plain": [
       "<Figure size 1200x700 with 2 Axes>"
      ]
     },
     "metadata": {},
     "output_type": "display_data"
    }
   ],
   "source": [
    "# Create subplots for holiday types and locale-wise distribution\n",
    "plt.figure(figsize=(12, 7))\n",
    "\n",
    "# Subplot 1: Distribution of Holiday Types\n",
    "plt.subplot(2, 2, 1)\n",
    "sns.countplot(data=holiday_data, x='type', palette=\"bright\")\n",
    "plt.title('Distribution of Holiday Types', fontsize=16)\n",
    "plt.xlabel('Holiday Type', fontsize=14)\n",
    "plt.ylabel('Count', fontsize=14)\n",
    "plt.xticks(rotation=0)\n",
    "\n",
    "# Subplot 2: Locale-wise Distribution of Holidays\n",
    "plt.subplot(2, 2, 2)\n",
    "sns.countplot(data=holiday_data, x='locale', palette='bright')\n",
    "plt.title('Locale-wise Distribution of Holidays', fontsize=16)\n",
    "plt.xlabel('Locale', fontsize=14)\n",
    "plt.ylabel('Count', fontsize=14)\n",
    "plt.xticks(rotation=0)\n",
    "\n",
    "# Adjust layout for subplots\n",
    "plt.tight_layout()\n",
    "\n",
    "# Show the subplots\n",
    "plt.show()"
   ]
  },
  {
   "cell_type": "markdown",
   "id": "f36eaa74",
   "metadata": {},
   "source": [
    "### Monthly Oil Price Trend Visualization\n",
    "\n",
    "The code provided generates a line plot to visualize the trend of monthly oil prices using the 'Oil Data' dataset.\n",
    "\n",
    "#### What the Plot Shows:\n",
    "The plot depicts the trend of monthly oil prices over time. The x-axis represents the months, and the y-axis represents the average oil price for each month. The line plot displays the fluctuations in oil prices, and the circular markers highlight specific data points. By observing the line's movement, you can identify any notable patterns or changes in oil prices throughout the dataset's timeline. This visualization provides insights into the volatility and direction of oil price trends."
   ]
  },
  {
   "cell_type": "code",
   "execution_count": 18,
   "id": "c9a79702",
   "metadata": {},
   "outputs": [
    {
     "data": {
      "image/png": "[encoded data removed]",
      "text/plain": [
       "<Figure size 1200x400 with 1 Axes>"
      ]
     },
     "metadata": {},
     "output_type": "display_data"
    }
   ],
   "source": [
    "# Convert the 'date' column to datetime format\n",
    "oil_data['date'] = pd.to_datetime(oil_data['date'])\n",
    "\n",
    "# Resample the data to monthly frequency and calculate the mean\n",
    "oil_data_monthly = oil_data.resample('M', on='date').mean()\n",
    "\n",
    "# Set up the plot figure\n",
    "plt.figure(figsize=(12, 4))\n",
    "\n",
    "# Plotting the data with markers and custom color\n",
    "plt.plot(oil_data_monthly.index, oil_data_monthly['dcoilwtico'], marker='o', color=\"#fc1703\", label='Monthly Oil Price')\n",
    "\n",
    "# Adding title and axis labels\n",
    "plt.xlabel('Date', fontsize=14)\n",
    "plt.ylabel('Oil Price', fontsize=14)\n",
    "plt.legend(fontsize=11)\n",
    "plt.title('Monthly Oil Price Trend', fontsize=16);\n"
   ]
  },
  {
   "cell_type": "markdown",
   "id": "6f97cc40",
   "metadata": {},
   "source": [
    "### Store Type Distribution\n",
    "\n",
    "The provided code generates a bar plot to visualize the distribution of different store types using the 'Stores Data' dataset.\n",
    "\n",
    "#### What the Plot Shows:\n",
    "\n",
    "The plot showcases the distribution of store types within the dataset. Each bar corresponds to a specific store type, and the height of the bar indicates the count of stores belonging to that type. The x-axis represents the store types, and the y-axis represents the count of stores. This visualization offers a quick overview of the composition of store types in the dataset, allowing you to understand how many stores fall under each category."
   ]
  },
  {
   "cell_type": "code",
   "execution_count": 19,
   "id": "8c9fd86b",
   "metadata": {},
   "outputs": [
    {
     "data": {
      "image/png": "[encoded data removed]",
      "text/plain": [
       "<Figure size 1200x400 with 1 Axes>"
      ]
     },
     "metadata": {},
     "output_type": "display_data"
    }
   ],
   "source": [
    "# Stores Data: Bar plot for store types\n",
    "plt.figure(figsize=(12, 4))\n",
    "\n",
    "sns.countplot(data=stores_data, x='type', palette=\"bright\")\n",
    "plt.xlabel('Store Type')\n",
    "plt.ylabel('Count')\n",
    "plt.title('Store Type Distribution', fontsize=16)\n",
    "plt.xticks(rotation=0);\n",
    "\n"
   ]
  },
  {
   "cell_type": "markdown",
   "id": "41ba443e",
   "metadata": {},
   "source": [
    "* **Store Type A:** This could represent a particular category of stores that share certain characteristics, such as location, size, or product range.\n",
    "\n",
    "* **Store Type B:** Similar to Type A, Store Type B might signify a different category of stores with its own set of attributes.\n",
    "\n",
    "* **Store Type C:** Continuing the pattern, Store Type C could represent yet another distinct category of stores.\n",
    "\n",
    "* **Store Type D:** Similar to the above, Store Type D likely represents another category with unique characteristics.\n",
    "\n",
    "* **Store Type E:** Likewise, Store Type E probably signifies a separate category of stores."
   ]
  },
  {
   "cell_type": "markdown",
   "id": "e603bcb7",
   "metadata": {},
   "source": [
    "### Monthly Transactions Trend\n",
    "\n",
    "The code generates a line plot that illustrates the trend of monthly transactions using the 'Transactions Data' dataset.\n",
    "\n",
    "#### What the Plot Shows:\n",
    "\n",
    "The plot visually represents the trend of monthly transactions over time. The x-axis displays the months, while the y-axis represents the total number of transactions for each month. Circular markers along the line indicate specific data points. By observing the line's trajectory, you can identify patterns or fluctuations in transaction activity throughout the dataset's timeline. This visualization provides insights into the variations in customer activity and transaction volumes over time."
   ]
  },
  {
   "cell_type": "code",
   "execution_count": 20,
   "id": "468078d5",
   "metadata": {
    "scrolled": false
   },
   "outputs": [
    {
     "data": {
      "image/png": "[encoded data removed]",
      "text/plain": [
       "<Figure size 1200x400 with 1 Axes>"
      ]
     },
     "metadata": {},
     "output_type": "display_data"
    }
   ],
   "source": [
    "# Transactions Data: Line plot for transactions over time (downsampled to monthly)\n",
    "transactions_data['date'] = pd.to_datetime(transactions_data['date'])\n",
    "transactions_data_monthly = transactions_data.resample('M', on='date').sum()\n",
    "\n",
    "plt.figure(figsize=(12, 4))\n",
    "plt.plot(transactions_data_monthly.index, transactions_data_monthly['transactions'], marker='o', color='#ca03fc')\n",
    "plt.xlabel('Date')\n",
    "plt.ylabel('Transactions')\n",
    "plt.title('Monthly Transactions Trend', fontsize=16)\n",
    "plt.xticks(rotation=0);\n",
    "\n"
   ]
  },
  {
   "cell_type": "markdown",
   "id": "8b72709f",
   "metadata": {},
   "source": [
    "The \"Monthly Transactions Trend\" visualization represents the variation in the number of transactions that occur over time. It uses data from the \"Transactions Data\" dataset, where each entry corresponds to a particular date and the associated number of transactions at different stores. The visualization provides insights into how the volume of transactions changes throughout the dataset's time span."
   ]
  },
  {
   "cell_type": "markdown",
   "id": "bf9ac76f",
   "metadata": {},
   "source": [
    "\n",
    "<br>\n",
    "<br>\n",
    "<div style=\"border-top: 1px solid;\"></div>\n",
    "\n",
    "## Data Preprocessing \n",
    "\n",
    "### Handling Missing Values\n",
    "\n",
    "I will address missing values in the provided DataFrames. I will create a function to handle missing values, track them, and fill them using appropriate strategies.\n",
    "\n",
    "Let's start by creating a function that handles missing values in a given DataFrame. The function will:\n",
    "\n",
    "1. Create new columns to track missing values.\n",
    "2. Fill missing numeric values with the median of the column.\n",
    "3. Fill missing categorical values with the string 'missing'."
   ]
  },
  {
   "cell_type": "code",
   "execution_count": 21,
   "id": "06ea9e01",
   "metadata": {},
   "outputs": [],
   "source": [
    "# Create a function that fills the missing values\n",
    "\n",
    "def fill_missing_values(df):\n",
    "    \"\"\"\n",
    "    Fill missing values in the given DataFrame.\n",
    "\n",
    "    Parameters:\n",
    "        data (DataFrame): The DataFrame containing missing values.\n",
    "\n",
    "    \"\"\"\n",
    "    print(f\"Processing data...\")\n",
    "\n",
    "  \n",
    "    for label, content in df.items():\n",
    "        # Handling numeric columns\n",
    "        if pd.api.types.is_numeric_dtype(content):\n",
    "            if pd.isnull(content).sum():\n",
    "                # Fill missing numeric values with the column's median\n",
    "                df[label] = content.fillna(content.median())\n",
    "\n",
    "        # Handling non-numeric columns\n",
    "        if not pd.api.types.is_numeric_dtype(content):\n",
    "            # Fill missing categorical values with 'missing'\n",
    "            df[label] = df[label].fillna(\"missing\")\n",
    "     \n",
    "    # Display the total count of remaining missing values\n",
    "    print(\"Final missing value counts:\")\n",
    "    print(df.isna().sum())\n",
    "\n",
    "  "
   ]
  },
  {
   "cell_type": "markdown",
   "id": "baf83abe",
   "metadata": {},
   "source": [
    "\n",
    "I have defined the function to handle missing values. Now, let's apply it to the provided DataFrames to clean and preprocess the data."
   ]
  },
  {
   "cell_type": "code",
   "execution_count": 22,
   "id": "e23ed910",
   "metadata": {},
   "outputs": [
    {
     "name": "stdout",
     "output_type": "stream",
     "text": [
      "DataFrame 'Train' has no missing values :)\n",
      "--------------------------------------------------\n",
      "DataFrame 'Holiday' has no missing values :)\n",
      "--------------------------------------------------\n",
      "DataFrame 'Oil' has missing values.\n",
      "Processing data...\n",
      "Final missing value counts:\n",
      "date          0\n",
      "dcoilwtico    0\n",
      "dtype: int64\n",
      "--------------------------------------------------\n",
      "DataFrame 'Stores' has no missing values :)\n",
      "--------------------------------------------------\n",
      "DataFrame 'Transactions' has no missing values :)\n",
      "--------------------------------------------------\n"
     ]
    }
   ],
   "source": [
    "# List of DataFrames\n",
    "dataframes = {\"Train\" : train_data,\n",
    "              \"Holiday\" : holiday_data,\n",
    "              \"Oil\" : oil_data,\n",
    "              \"Stores\" : stores_data,\n",
    "              \"Transactions\" : transactions_data}\n",
    "\n",
    "# Print names of DataFrames with missing values\n",
    "for name, data in dataframes.items():\n",
    "    missing_values = data.isna().any()\n",
    "    if missing_values.any():\n",
    "        print(f\"DataFrame '{name}' has missing values.\")\n",
    "        fill_missing_values(data)\n",
    "    \n",
    "    else:\n",
    "        print(f\"DataFrame '{name}' has no missing values :)\")\n",
    "    print(\"-\"*50)    "
   ]
  },
  {
   "cell_type": "code",
   "execution_count": 23,
   "id": "5ea96b28",
   "metadata": {},
   "outputs": [
    {
     "data": {
      "text/plain": [
       "(3000888, 6)"
      ]
     },
     "execution_count": 23,
     "metadata": {},
     "output_type": "execute_result"
    }
   ],
   "source": [
    "\n",
    "\n",
    "\n",
    "train_data.shape"
   ]
  },
  {
   "cell_type": "markdown",
   "id": "15a300d5",
   "metadata": {},
   "source": [
    "After running the code, I have successfully addressed missing values in the provided DataFrames. The function `fill_missing_values` efficiently handled missing values, and I tracked these values using additional columns. "
   ]
  },
  {
   "cell_type": "markdown",
   "id": "f75e4eef",
   "metadata": {},
   "source": [
    "\n",
    "\n",
    "### Feature Engineering\n",
    "I'm enhancing the dataset to help the machine learning model make better predictions. I'm going to create a function to  add new information to the existing data.\n",
    "\n",
    "The `create_features` function enhances a DataFrame by adding new features:\n",
    "\n",
    " *  **Date Information:** Extracts year, month, and day details from the 'date' column.\n",
    " *  **Day of the Week:** Determines the day of the week from the date and adds it as a column.\n",
    " *  **Weekend and Weekday Indicators:** Creates flags to indicate whether a day is a weekend or weekday.\n",
    " *  **Promotion Indicator:** Adds a flag indicating whether a product is on promotion.\n",
    " *  **Promotion History:** Computes the number of promotions in the past 7 days.\n",
    " *  **Holiday Indicator:** Adds a flag for whether a day is a holiday.\n",
    " *  **Store Information:** Merges store-related details such as city, state, type, and cluster.\n",
    " *  **Oil Price:** Incorporates information about oil prices.\n",
    " *  **Transaction Count:** Calculates the number of transactions for each store and day.\n",
    " *  **Transaction Density:** Computes the ratio of transactions to sales.\n",
    " *  **Transaction Changes:** Calculates the percentage change in transaction counts"
   ]
  },
  {
   "cell_type": "code",
   "execution_count": 24,
   "id": "75949f54",
   "metadata": {},
   "outputs": [],
   "source": [
    "def create_features(df, holiday_data, stores_data, oil_data, transactions_data):\n",
    "    \"\"\"\n",
    "    Perform feature engineering on the given DataFrame.\n",
    "    \n",
    "    Parameters:\n",
    "    df (pd.DataFrame): The DataFrame to perform feature engineering on.\n",
    "    holiday_data (pd.DataFrame): DataFrame containing holiday information.\n",
    "    stores_data (pd.DataFrame): DataFrame containing store information.\n",
    "    oil_data (pd.DataFrame): DataFrame containing oil price information.\n",
    "    transactions_data (pd.DataFrame): DataFrame containing transaction information.\n",
    "    \n",
    "    Returns:\n",
    "    pd.DataFrame: The DataFrame with added features.\n",
    "    \"\"\"\n",
    "        \n",
    "    # Extract date components\n",
    "    df[\"year\"] = df[\"date\"].dt.year\n",
    "    df[\"month\"] = df[\"date\"].dt.month\n",
    "    df[\"day\"] = df[\"date\"].dt.day\n",
    "    df['day_of_week'] = df['date'].dt.dayofweek\n",
    "    df['is_weekend'] = (df['day_of_week'] >= 5).astype(int)\n",
    "    df['is_weekday'] = (df['day_of_week'] < 5).astype(int)\n",
    "    \n",
    "    # Create binary indicator for promotions\n",
    "    df['is_promotion'] = df['onpromotion'].apply(lambda x: 1 if x == 1 else 0)\n",
    "    \n",
    "    # Calculate rolling sum of promotions for the past 7 days\n",
    "    df['promotions_last_7_days'] = df['onpromotion'].rolling(window=7).sum()\n",
    "    \n",
    "    # Create binary indicator for whether a promotion occurred in the past 7 days\n",
    "    df['promotion_last_7_days'] = df['promotions_last_7_days'].apply(lambda x: 1 if x > 0 else 0)\n",
    "    \n",
    "    # Fill NaN values with 0\n",
    "    df.fillna(0, inplace=True)\n",
    "    \n",
    "    # Create a new column 'is_holiday'\n",
    "    df['is_holiday'] = 0\n",
    "    \n",
    "    # Update 'is_holiday' column based on holiday_data\n",
    "    for date in holiday_data['date']:\n",
    "        df.loc[df['date'] == date, 'is_holiday'] = 1\n",
    "    \n",
    "    # Merge with stores_data\n",
    "    df = df.merge(stores_data[['store_nbr', 'city', 'state', 'type', 'cluster']], on='store_nbr', how='left')\n",
    "    \n",
    "    # Merge with oil_data\n",
    "    df = df.merge(oil_data, on='date', how='left')\n",
    "    \n",
    "    return df\n"
   ]
  },
  {
   "cell_type": "markdown",
   "id": "95428995",
   "metadata": {},
   "source": [
    "I assume that there are multiple DataFrames, each containing potentially categorical data. Additionally, I convert the 'date' column to datetime format"
   ]
  },
  {
   "cell_type": "code",
   "execution_count": 25,
   "id": "955cf639",
   "metadata": {},
   "outputs": [],
   "source": [
    "# Convert the 'date' column to datetime for DataFrames that have it\n",
    "for data in dataframes.values():\n",
    "    if 'date' in data.columns:\n",
    "        data['date'] = pd.to_datetime(data['date'])"
   ]
  },
  {
   "cell_type": "code",
   "execution_count": 26,
   "id": "ba8f36e9",
   "metadata": {
    "scrolled": false
   },
   "outputs": [],
   "source": [
    "# Apply the function to train_data\n",
    "train_data = create_features(train_data, holiday_data, stores_data, oil_data, transactions_data)\n"
   ]
  },
  {
   "cell_type": "code",
   "execution_count": 27,
   "id": "12706b72",
   "metadata": {},
   "outputs": [
    {
     "data": {
      "text/plain": [
       "id                             0\n",
       "date                           0\n",
       "store_nbr                      0\n",
       "family                         0\n",
       "sales                          0\n",
       "onpromotion                    0\n",
       "year                           0\n",
       "month                          0\n",
       "day                            0\n",
       "day_of_week                    0\n",
       "is_weekend                     0\n",
       "is_weekday                     0\n",
       "is_promotion                   0\n",
       "promotions_last_7_days         0\n",
       "promotion_last_7_days          0\n",
       "is_holiday                     0\n",
       "city                           0\n",
       "state                          0\n",
       "type                           0\n",
       "cluster                        0\n",
       "dcoilwtico                857142\n",
       "dtype: int64"
      ]
     },
     "execution_count": 27,
     "metadata": {},
     "output_type": "execute_result"
    }
   ],
   "source": [
    "train_data.isna().sum()"
   ]
  },
  {
   "cell_type": "code",
   "execution_count": 28,
   "id": "5d0a297f",
   "metadata": {
    "scrolled": false
   },
   "outputs": [
    {
     "name": "stdout",
     "output_type": "stream",
     "text": [
      "Processing data...\n",
      "Final missing value counts:\n",
      "id                        0\n",
      "date                      0\n",
      "store_nbr                 0\n",
      "family                    0\n",
      "sales                     0\n",
      "onpromotion               0\n",
      "year                      0\n",
      "month                     0\n",
      "day                       0\n",
      "day_of_week               0\n",
      "is_weekend                0\n",
      "is_weekday                0\n",
      "is_promotion              0\n",
      "promotions_last_7_days    0\n",
      "promotion_last_7_days     0\n",
      "is_holiday                0\n",
      "city                      0\n",
      "state                     0\n",
      "type                      0\n",
      "cluster                   0\n",
      "dcoilwtico                0\n",
      "dtype: int64\n"
     ]
    }
   ],
   "source": [
    "fill_missing_values(train_data)"
   ]
  },
  {
   "cell_type": "code",
   "execution_count": 29,
   "id": "0b26af5b",
   "metadata": {
    "scrolled": false
   },
   "outputs": [],
   "source": [
    "train_data.drop(\"date\", axis=1, inplace=True)"
   ]
  },
  {
   "cell_type": "code",
   "execution_count": 30,
   "id": "53b86472",
   "metadata": {},
   "outputs": [
    {
     "data": {
      "text/html": [
       "<div>\n",
       "<style scoped>\n",
       "    .dataframe tbody tr th:only-of-type {\n",
       "        vertical-align: middle;\n",
       "    }\n",
       "\n",
       "    .dataframe tbody tr th {\n",
       "        vertical-align: top;\n",
       "    }\n",
       "\n",
       "    .dataframe thead th {\n",
       "        text-align: right;\n",
       "    }\n",
       "</style>\n",
       "<table border=\"1\" class=\"dataframe\">\n",
       "  <thead>\n",
       "    <tr style=\"text-align: right;\">\n",
       "      <th></th>\n",
       "      <th>id</th>\n",
       "      <th>store_nbr</th>\n",
       "      <th>family</th>\n",
       "      <th>sales</th>\n",
       "      <th>onpromotion</th>\n",
       "      <th>year</th>\n",
       "      <th>month</th>\n",
       "      <th>day</th>\n",
       "      <th>day_of_week</th>\n",
       "      <th>is_weekend</th>\n",
       "      <th>is_weekday</th>\n",
       "      <th>is_promotion</th>\n",
       "      <th>promotions_last_7_days</th>\n",
       "      <th>promotion_last_7_days</th>\n",
       "      <th>is_holiday</th>\n",
       "      <th>city</th>\n",
       "      <th>state</th>\n",
       "      <th>type</th>\n",
       "      <th>cluster</th>\n",
       "      <th>dcoilwtico</th>\n",
       "    </tr>\n",
       "  </thead>\n",
       "  <tbody>\n",
       "    <tr>\n",
       "      <th>0</th>\n",
       "      <td>0</td>\n",
       "      <td>1</td>\n",
       "      <td>AUTOMOTIVE</td>\n",
       "      <td>0.0</td>\n",
       "      <td>0</td>\n",
       "      <td>2013</td>\n",
       "      <td>1</td>\n",
       "      <td>1</td>\n",
       "      <td>1</td>\n",
       "      <td>0</td>\n",
       "      <td>1</td>\n",
       "      <td>0</td>\n",
       "      <td>0.0</td>\n",
       "      <td>0</td>\n",
       "      <td>1</td>\n",
       "      <td>Quito</td>\n",
       "      <td>Pichincha</td>\n",
       "      <td>D</td>\n",
       "      <td>13</td>\n",
       "      <td>53.19</td>\n",
       "    </tr>\n",
       "    <tr>\n",
       "      <th>1</th>\n",
       "      <td>1</td>\n",
       "      <td>1</td>\n",
       "      <td>BABY CARE</td>\n",
       "      <td>0.0</td>\n",
       "      <td>0</td>\n",
       "      <td>2013</td>\n",
       "      <td>1</td>\n",
       "      <td>1</td>\n",
       "      <td>1</td>\n",
       "      <td>0</td>\n",
       "      <td>1</td>\n",
       "      <td>0</td>\n",
       "      <td>0.0</td>\n",
       "      <td>0</td>\n",
       "      <td>1</td>\n",
       "      <td>Quito</td>\n",
       "      <td>Pichincha</td>\n",
       "      <td>D</td>\n",
       "      <td>13</td>\n",
       "      <td>53.19</td>\n",
       "    </tr>\n",
       "    <tr>\n",
       "      <th>2</th>\n",
       "      <td>2</td>\n",
       "      <td>1</td>\n",
       "      <td>BEAUTY</td>\n",
       "      <td>0.0</td>\n",
       "      <td>0</td>\n",
       "      <td>2013</td>\n",
       "      <td>1</td>\n",
       "      <td>1</td>\n",
       "      <td>1</td>\n",
       "      <td>0</td>\n",
       "      <td>1</td>\n",
       "      <td>0</td>\n",
       "      <td>0.0</td>\n",
       "      <td>0</td>\n",
       "      <td>1</td>\n",
       "      <td>Quito</td>\n",
       "      <td>Pichincha</td>\n",
       "      <td>D</td>\n",
       "      <td>13</td>\n",
       "      <td>53.19</td>\n",
       "    </tr>\n",
       "    <tr>\n",
       "      <th>3</th>\n",
       "      <td>3</td>\n",
       "      <td>1</td>\n",
       "      <td>BEVERAGES</td>\n",
       "      <td>0.0</td>\n",
       "      <td>0</td>\n",
       "      <td>2013</td>\n",
       "      <td>1</td>\n",
       "      <td>1</td>\n",
       "      <td>1</td>\n",
       "      <td>0</td>\n",
       "      <td>1</td>\n",
       "      <td>0</td>\n",
       "      <td>0.0</td>\n",
       "      <td>0</td>\n",
       "      <td>1</td>\n",
       "      <td>Quito</td>\n",
       "      <td>Pichincha</td>\n",
       "      <td>D</td>\n",
       "      <td>13</td>\n",
       "      <td>53.19</td>\n",
       "    </tr>\n",
       "    <tr>\n",
       "      <th>4</th>\n",
       "      <td>4</td>\n",
       "      <td>1</td>\n",
       "      <td>BOOKS</td>\n",
       "      <td>0.0</td>\n",
       "      <td>0</td>\n",
       "      <td>2013</td>\n",
       "      <td>1</td>\n",
       "      <td>1</td>\n",
       "      <td>1</td>\n",
       "      <td>0</td>\n",
       "      <td>1</td>\n",
       "      <td>0</td>\n",
       "      <td>0.0</td>\n",
       "      <td>0</td>\n",
       "      <td>1</td>\n",
       "      <td>Quito</td>\n",
       "      <td>Pichincha</td>\n",
       "      <td>D</td>\n",
       "      <td>13</td>\n",
       "      <td>53.19</td>\n",
       "    </tr>\n",
       "  </tbody>\n",
       "</table>\n",
       "</div>"
      ],
      "text/plain": [
       "   id  store_nbr      family  sales  onpromotion  year  month  day  \\\n",
       "0   0          1  AUTOMOTIVE    0.0            0  2013      1    1   \n",
       "1   1          1   BABY CARE    0.0            0  2013      1    1   \n",
       "2   2          1      BEAUTY    0.0            0  2013      1    1   \n",
       "3   3          1   BEVERAGES    0.0            0  2013      1    1   \n",
       "4   4          1       BOOKS    0.0            0  2013      1    1   \n",
       "\n",
       "   day_of_week  is_weekend  is_weekday  is_promotion  promotions_last_7_days  \\\n",
       "0            1           0           1             0                     0.0   \n",
       "1            1           0           1             0                     0.0   \n",
       "2            1           0           1             0                     0.0   \n",
       "3            1           0           1             0                     0.0   \n",
       "4            1           0           1             0                     0.0   \n",
       "\n",
       "   promotion_last_7_days  is_holiday   city      state type  cluster  \\\n",
       "0                      0           1  Quito  Pichincha    D       13   \n",
       "1                      0           1  Quito  Pichincha    D       13   \n",
       "2                      0           1  Quito  Pichincha    D       13   \n",
       "3                      0           1  Quito  Pichincha    D       13   \n",
       "4                      0           1  Quito  Pichincha    D       13   \n",
       "\n",
       "   dcoilwtico  \n",
       "0       53.19  \n",
       "1       53.19  \n",
       "2       53.19  \n",
       "3       53.19  \n",
       "4       53.19  "
      ]
     },
     "execution_count": 30,
     "metadata": {},
     "output_type": "execute_result"
    }
   ],
   "source": [
    "train_data.head()"
   ]
  },
  {
   "cell_type": "markdown",
   "id": "960a4da0",
   "metadata": {},
   "source": [
    "### Encoding Categorical Variables\n",
    "\n",
    "To encode categorical variables, I'll create a function.\n",
    "\n",
    " The `encode_cateforical_features` function:\n",
    "\n",
    "  *  **Missing Value Tracking:** Generate new columns to monitor missing values in each column.\n",
    "\n",
    "  *  **Numeric-to-Categorical Conversion:** Convert non-numeric columns into categorical codes, excluding the 'date' column.\n",
    "\n",
    "  *  **Value Adjustment:** Add 1 to categorical codes to ensure a starting point from 1.\n",
    "\n"
   ]
  },
  {
   "cell_type": "code",
   "execution_count": 31,
   "id": "3f76e0ae",
   "metadata": {},
   "outputs": [],
   "source": [
    "# Create a function that encodes the categorical variables\n",
    "def encode_categorical_features(data, name):\n",
    "    \"\"\"\n",
    "    Encode categorical features using a modified approach.\n",
    "    \n",
    "    Parameters:\n",
    "        data (pandas.DataFrame): The DataFrame containing the data to be encoded.\n",
    "    \n",
    "    Returns:\n",
    "        pandas.DataFrame: The DataFrame with encoded categorical features.\n",
    "    \"\"\"\n",
    "    for label, content in data.items():\n",
    "        # Handling non-numeric columns\n",
    "        # Check if the data type of the column is a string (i.e., categorical data)\n",
    "        if pd.api.types.is_string_dtype(content):\n",
    "            data[label] = content.astype(\"category\")\n",
    "            # Convert non-numeric data into categorical codes (integers)\n",
    "            data[label] = pd.Categorical(content).codes + 1\n",
    "            \n",
    "    print(f\"Categorical variables in `{name}` data have been successfully encoded into numerical codes.\")\n",
    "    print(\"-\"*100)\n",
    "    return data\n"
   ]
  },
  {
   "cell_type": "code",
   "execution_count": 32,
   "id": "b1a669d1",
   "metadata": {},
   "outputs": [
    {
     "name": "stdout",
     "output_type": "stream",
     "text": [
      "<class 'pandas.core.frame.DataFrame'>\n",
      "RangeIndex: 3000888 entries, 0 to 3000887\n",
      "Data columns (total 20 columns):\n",
      " #   Column                  Dtype  \n",
      "---  ------                  -----  \n",
      " 0   id                      int64  \n",
      " 1   store_nbr               int64  \n",
      " 2   family                  object \n",
      " 3   sales                   float64\n",
      " 4   onpromotion             int64  \n",
      " 5   year                    int32  \n",
      " 6   month                   int32  \n",
      " 7   day                     int32  \n",
      " 8   day_of_week             int32  \n",
      " 9   is_weekend              int32  \n",
      " 10  is_weekday              int32  \n",
      " 11  is_promotion            int64  \n",
      " 12  promotions_last_7_days  float64\n",
      " 13  promotion_last_7_days   int64  \n",
      " 14  is_holiday              int64  \n",
      " 15  city                    object \n",
      " 16  state                   object \n",
      " 17  type                    object \n",
      " 18  cluster                 int64  \n",
      " 19  dcoilwtico              float64\n",
      "dtypes: float64(3), int32(6), int64(7), object(4)\n",
      "memory usage: 389.2+ MB\n"
     ]
    }
   ],
   "source": [
    "train_data.info()"
   ]
  },
  {
   "cell_type": "markdown",
   "id": "c0b02a53",
   "metadata": {},
   "source": [
    "I proceed to encode categorical features in the train_data (excluding the 'date' column) using the `encode_categorical_features` function:"
   ]
  },
  {
   "cell_type": "code",
   "execution_count": 33,
   "id": "fab73891",
   "metadata": {},
   "outputs": [
    {
     "name": "stdout",
     "output_type": "stream",
     "text": [
      "Categorical variables in `Train` data have been successfully encoded into numerical codes.\n",
      "----------------------------------------------------------------------------------------------------\n",
      "<class 'pandas.core.frame.DataFrame'>\n",
      "RangeIndex: 3000888 entries, 0 to 3000887\n",
      "Data columns (total 20 columns):\n",
      " #   Column                  Dtype  \n",
      "---  ------                  -----  \n",
      " 0   id                      int64  \n",
      " 1   store_nbr               int64  \n",
      " 2   family                  int8   \n",
      " 3   sales                   float64\n",
      " 4   onpromotion             int64  \n",
      " 5   year                    int32  \n",
      " 6   month                   int32  \n",
      " 7   day                     int32  \n",
      " 8   day_of_week             int32  \n",
      " 9   is_weekend              int32  \n",
      " 10  is_weekday              int32  \n",
      " 11  is_promotion            int64  \n",
      " 12  promotions_last_7_days  float64\n",
      " 13  promotion_last_7_days   int64  \n",
      " 14  is_holiday              int64  \n",
      " 15  city                    int8   \n",
      " 16  state                   int8   \n",
      " 17  type                    int8   \n",
      " 18  cluster                 int64  \n",
      " 19  dcoilwtico              float64\n",
      "dtypes: float64(3), int32(6), int64(7), int8(4)\n",
      "memory usage: 309.1 MB\n"
     ]
    }
   ],
   "source": [
    "train_data = encode_categorical_features(train_data, 'Train')\n",
    "train_data.info()"
   ]
  },
  {
   "cell_type": "markdown",
   "id": "da7f5b19",
   "metadata": {},
   "source": [
    "### Data Splitting\n",
    "\n",
    "Before modeling, I'll split the data into training, validation, and possibly testing sets. This ensures we have separate data for each phase."
   ]
  },
  {
   "cell_type": "code",
   "execution_count": 34,
   "id": "e03b87ed",
   "metadata": {},
   "outputs": [
    {
     "data": {
      "text/plain": [
       "((100000, 19), (100000,))"
      ]
     },
     "execution_count": 34,
     "metadata": {},
     "output_type": "execute_result"
    }
   ],
   "source": [
    "# Split data into X & y\n",
    "X = train_data.drop('sales', axis=1)[:100000]\n",
    "y = train_data['sales'][:100000]\n",
    "\n",
    "# Displaying the shapes of X and y\n",
    "X.shape, y.shape"
   ]
  },
  {
   "cell_type": "markdown",
   "id": "ed208712",
   "metadata": {},
   "source": [
    "I'm going to train the model with a smaller amount of data initially and then attempt to improve the score. After that, I'll train the model using all of the available data."
   ]
  },
  {
   "cell_type": "code",
   "execution_count": 35,
   "id": "2dc7c338",
   "metadata": {},
   "outputs": [
    {
     "data": {
      "text/plain": [
       "((20000, 19), (80000, 19), (20000,), (80000,))"
      ]
     },
     "execution_count": 35,
     "metadata": {},
     "output_type": "execute_result"
    }
   ],
   "source": [
    "# Splitting the data into training and validation sets\n",
    "X_train, X_val, y_train, y_val = train_test_split(X, y, random_state=42, train_size=0.2)\n",
    "\n",
    "# Displaying the shapes of the training and validation sets\n",
    "X_train.shape, X_val.shape, y_train.shape, y_val.shape"
   ]
  },
  {
   "cell_type": "markdown",
   "id": "16012186",
   "metadata": {},
   "source": [
    "<br>\n",
    "<br>\n",
    "<div style=\"border-top: 1px solid;\"></div>\n",
    "\n",
    "## Modeling\n",
    "\n",
    "### Evaluate and Train Model\n",
    "\n",
    "I will assess how well the initial model performs after training. I'll use metrics to measure its performance. If needed, I will adjust the model's parameters and train it again to improve its accuracy.\n",
    "\n",
    "I'm going to try 5 diffirent machine learning models:\n",
    "\n",
    "  *  **Linear Regression (LR):** Predicts values by drawing a straight line that best fits the data points. It's a simple and interpretable model.\n",
    "\n",
    "  *  **Decision Tree Regressor (DTR):** Makes decisions using a tree-like structure, asking questions about features to predict values. It's easy to understand but can lead to overfitting.\n",
    "\n",
    "  *  **RandomForest Regressor (RFR):** Constructs multiple decision trees and combines their predictions to improve accuracy and reduce overfitting.\n"
   ]
  },
  {
   "cell_type": "code",
   "execution_count": 36,
   "id": "41894093",
   "metadata": {},
   "outputs": [],
   "source": [
    "# Define the base models\n",
    "base_models = {\n",
    "    \"LR\": LinearRegression(),\n",
    "    \"DTR\": DecisionTreeRegressor(),\n",
    "    \"RFR\": RandomForestRegressor()\n",
    "}"
   ]
  },
  {
   "cell_type": "markdown",
   "id": "f6ebb584",
   "metadata": {},
   "source": [
    "The `fit_metrics_model` function:\n",
    " *  Trains and evaluates multiple machine learning models.\n",
    "  *  Calculates metrics like MAE and R-squared.\n",
    "  *  Takes model instances, training, and validation data.\n",
    "  *  Returns a summary DataFrame with metrics for each model."
   ]
  },
  {
   "cell_type": "code",
   "execution_count": 37,
   "id": "7b48c589",
   "metadata": {},
   "outputs": [],
   "source": [
    "def fit_metrics_model(models, X_train, X_val, y_train, y_val):\n",
    "    \"\"\"\n",
    "    Train and evaluate multiple models using different metrics.\n",
    "\n",
    "    Parameters:\n",
    "        models (dict): A dictionary of model instances with their names as keys.\n",
    "        X_train (pd.DataFrame): Training features.\n",
    "        X_val (pd.DataFrame): Validation features.\n",
    "        y_train (pd.Series): Training target.\n",
    "        y_val (pd.Series): Validation target.\n",
    "\n",
    "    Returns:\n",
    "        pd.DataFrame: A DataFrame containing evaluation metrics for each model.\n",
    "    \"\"\"\n",
    "    metrics = {}\n",
    "\n",
    "    # Loop through each model and evaluate its performance\n",
    "    for name, model in models.items():\n",
    "        print(f\"Fitting and evaluating {name} model...\")\n",
    "\n",
    "        # Fit the model on the training data\n",
    "        model.fit(X_train, y_train)\n",
    "\n",
    "        # Make predictions on both training and validation data\n",
    "        train_preds = model.predict(X_train)\n",
    "        val_preds = model.predict(X_val)\n",
    "\n",
    "        # Calculate evaluation metrics for the model\n",
    "        metrics[name] = {\n",
    "            \"Training MAE\" : mean_absolute_error(y_train, train_preds),\n",
    "            \"Valid MAE\" : mean_absolute_error(y_val, val_preds),\n",
    "            \"Training R^2\" : r2_score(y_train, train_preds),\n",
    "            \"Valid R^2\" : r2_score(y_val, val_preds)}\n",
    "          \n",
    "    \n",
    "    # Create a DataFrame to store the evaluation results\n",
    "    return pd.DataFrame(metrics).T"
   ]
  },
  {
   "cell_type": "code",
   "execution_count": 38,
   "id": "d71a6f98",
   "metadata": {
    "scrolled": false
   },
   "outputs": [
    {
     "name": "stdout",
     "output_type": "stream",
     "text": [
      "Fitting and evaluating LR model...\n",
      "Fitting and evaluating DTR model...\n",
      "Fitting and evaluating RFR model...\n",
      "CPU times: total: 12.6 s\n",
      "Wall time: 14.2 s\n"
     ]
    },
    {
     "data": {
      "text/html": [
       "<div>\n",
       "<style scoped>\n",
       "    .dataframe tbody tr th:only-of-type {\n",
       "        vertical-align: middle;\n",
       "    }\n",
       "\n",
       "    .dataframe tbody tr th {\n",
       "        vertical-align: top;\n",
       "    }\n",
       "\n",
       "    .dataframe thead th {\n",
       "        text-align: right;\n",
       "    }\n",
       "</style>\n",
       "<table border=\"1\" class=\"dataframe\">\n",
       "  <thead>\n",
       "    <tr style=\"text-align: right;\">\n",
       "      <th></th>\n",
       "      <th>Training MAE</th>\n",
       "      <th>Valid MAE</th>\n",
       "      <th>Training R^2</th>\n",
       "      <th>Valid R^2</th>\n",
       "    </tr>\n",
       "  </thead>\n",
       "  <tbody>\n",
       "    <tr>\n",
       "      <th>LR</th>\n",
       "      <td>277.451171</td>\n",
       "      <td>278.613710</td>\n",
       "      <td>0.041263</td>\n",
       "      <td>0.045205</td>\n",
       "    </tr>\n",
       "    <tr>\n",
       "      <th>DTR</th>\n",
       "      <td>0.000000</td>\n",
       "      <td>52.051788</td>\n",
       "      <td>1.000000</td>\n",
       "      <td>0.819916</td>\n",
       "    </tr>\n",
       "    <tr>\n",
       "      <th>RFR</th>\n",
       "      <td>16.046609</td>\n",
       "      <td>41.559210</td>\n",
       "      <td>0.978628</td>\n",
       "      <td>0.909707</td>\n",
       "    </tr>\n",
       "  </tbody>\n",
       "</table>\n",
       "</div>"
      ],
      "text/plain": [
       "     Training MAE   Valid MAE  Training R^2  Valid R^2\n",
       "LR     277.451171  278.613710      0.041263   0.045205\n",
       "DTR      0.000000   52.051788      1.000000   0.819916\n",
       "RFR     16.046609   41.559210      0.978628   0.909707"
      ]
     },
     "execution_count": 38,
     "metadata": {},
     "output_type": "execute_result"
    }
   ],
   "source": [
    "%%time\n",
    "base_models_evaluations = fit_metrics_model(base_models, X_train, X_val, y_train, y_val)\n",
    "base_models_evaluations"
   ]
  },
  {
   "cell_type": "markdown",
   "id": "26647ce3",
   "metadata": {},
   "source": [
    "   * **Training MAE:** The average absolute difference between predicted and actual values on the training data. Lower is better.\n",
    "\n",
    "   * **Valid MAE:** Same as Training MAE, but measured on the validation data. A good model should have similar MAE for training and validation.\n",
    "\n",
    "   * **Training R^2:** The proportion of variance in the target explained by the model on the training data. Closer to 1 is better.\n",
    "\n",
    "   * **Valid R^2:** Same as Training R^2, but measured on the validation data. Indicates model's generalization ability."
   ]
  },
  {
   "cell_type": "markdown",
   "id": "da751f40",
   "metadata": {},
   "source": [
    "\n",
    "### Visualizing Model Comparison\n",
    "\n",
    "I will visualize the comparison of the models' performance using a bar chart. Each bar represents a model, and different evaluation metrics are represented using distinct colors.\n"
   ]
  },
  {
   "cell_type": "code",
   "execution_count": 39,
   "id": "70dee8f8",
   "metadata": {},
   "outputs": [
    {
     "data": {
      "image/png": "[encoded data removed]",
      "text/plain": [
       "<Figure size 1000x600 with 4 Axes>"
      ]
     },
     "metadata": {},
     "output_type": "display_data"
    }
   ],
   "source": [
    "# Model names\n",
    "models = base_models_evaluations.index\n",
    "\n",
    "# Create subplots\n",
    "fig, axs = plt.subplots(2, 2, figsize=(10, 6))\n",
    "\n",
    "# Plot Training MAE\n",
    "axs[0, 0].bar(models, base_models_evaluations[\"Training MAE\"], color='blue')\n",
    "axs[0, 0].set_title('Training MAE')\n",
    "\n",
    "# Plot Valid MAE\n",
    "axs[0, 1].bar(models, base_models_evaluations[\"Valid MAE\"], color='green')\n",
    "axs[0, 1].set_title('Valid MAE')\n",
    "\n",
    "# Plot Training R-squared\n",
    "axs[1, 0].bar(models, base_models_evaluations[\"Training R^2\"], color='orange')\n",
    "axs[1, 0].set_title('Training R-squared')\n",
    "\n",
    "# Plot Valid R-squared\n",
    "axs[1, 1].bar(models,base_models_evaluations[\"Valid R^2\"], color='red')\n",
    "axs[1, 1].set_title('Valid R-squared')\n",
    "\n",
    "# Adjust layout\n",
    "plt.tight_layout()"
   ]
  },
  {
   "cell_type": "markdown",
   "id": "7f950721",
   "metadata": {},
   "source": [
    "I might want to use the `Decision Tree Regressor (DTR)` because it has very low errors and explains data well, making it a good choice for my task.I want to make the Decision Tree Regressor model perform even better, and I plan to do this by using a technique called `RandomSearchCV`."
   ]
  },
  {
   "cell_type": "markdown",
   "id": "d598201d",
   "metadata": {},
   "source": [
    "### Hyperparameter Optimization\n",
    "\n",
    "I will now perform hyperparameter optimization to fine-tune the model's settings and improve its performance. The RandomizedSearchCV technique is used to explore different combinations of hyperparameters.\n",
    "\n",
    "The following hyperparameters will be explored:\n",
    "Certainly, here's a more concise explanation of the hyperparameters:\n",
    "\n",
    "  -  `max_depth:` Controls how deep the decision tree can grow. You're testing depths of None (unlimited), 10, 20, and 30.\n",
    "\n",
    "  -  `min_samples_split:` Sets the minimum samples required to split a node. Higher values can prevent overfitting.\n",
    "\n",
    "   - `min_samples_leaf:` Defines the minimum samples in a leaf node. It helps prevent tiny branches.\n",
    "\n",
    "  -  `max_features:` Limits the number of features considered for splitting. Options are 'auto,' 'sqrt,' 'log2,' and None (all features).\n",
    "\n",
    "   -  `criterion: `Measures split quality. Options are 'mse' (mean squared error), 'friedman_mse,' 'mae' (mean absolute error), and 'poisson.'\n",
    "\n",
    "   - ` splitter:` Chooses the split strategy. 'best' selects the best split, 'random' chooses a random best split.\n",
    "\n",
    "  -  `min_weight_fraction_leaf:` Sets the minimum weighted samples for a leaf node (used for weighted data).\n",
    "\n",
    "  -  `random_state:` Controls randomness for reproducibility. You're testing None, 42, and 1001.\n",
    "\n",
    "  - ` presort:` Speeds up training by pre-sorting data (boolean).\n",
    "\n",
    "\n"
   ]
  },
  {
   "cell_type": "code",
   "execution_count": 47,
   "id": "405c201a",
   "metadata": {},
   "outputs": [],
   "source": [
    "# Define the grid of hyperparameters to search\n",
    "param_dict = {\n",
    "    'max_depth': [None, 10, 20, 30],         \n",
    "    'min_samples_split': [2, 5, 10],          \n",
    "    'min_samples_leaf': [1, 2, 4],            \n",
    "    'max_features': ['auto', 'sqrt', 'log2', None], \n",
    "    'criterion': ['mse', 'friedman_mse', 'mae', 'poisson'], \n",
    "    'splitter': ['best', 'random'],            \n",
    "    'min_weight_fraction_leaf': [0.0, 0.1, 0.2],  \n",
    "    'random_state': [None, 42, 1001]\n",
    "}\n"
   ]
  },
  {
   "cell_type": "code",
   "execution_count": 48,
   "id": "8f06a3d4",
   "metadata": {
    "scrolled": false
   },
   "outputs": [
    {
     "name": "stdout",
     "output_type": "stream",
     "text": [
      "Fitting 5 folds for each of 100 candidates, totalling 500 fits\n",
      "CPU times: total: 4.03 s\n",
      "Wall time: 4.54 s\n"
     ]
    },
    {
     "data": {
      "text/html": [
       "<style>#sk-container-id-1 {color: black;}#sk-container-id-1 pre{padding: 0;}#sk-container-id-1 div.sk-toggleable {background-color: white;}#sk-container-id-1 label.sk-toggleable__label {cursor: pointer;display: block;width: 100%;margin-bottom: 0;padding: 0.3em;box-sizing: border-box;text-align: center;}#sk-container-id-1 label.sk-toggleable__label-arrow:before {content: \"▸\";float: left;margin-right: 0.25em;color: #696969;}#sk-container-id-1 label.sk-toggleable__label-arrow:hover:before {color: black;}#sk-container-id-1 div.sk-estimator:hover label.sk-toggleable__label-arrow:before {color: black;}#sk-container-id-1 div.sk-toggleable__content {max-height: 0;max-width: 0;overflow: hidden;text-align: left;background-color: #f0f8ff;}#sk-container-id-1 div.sk-toggleable__content pre {margin: 0.2em;color: black;border-radius: 0.25em;background-color: #f0f8ff;}#sk-container-id-1 input.sk-toggleable__control:checked~div.sk-toggleable__content {max-height: 200px;max-width: 100%;overflow: auto;}#sk-container-id-1 input.sk-toggleable__control:checked~label.sk-toggleable__label-arrow:before {content: \"▾\";}#sk-container-id-1 div.sk-estimator input.sk-toggleable__control:checked~label.sk-toggleable__label {background-color: #d4ebff;}#sk-container-id-1 div.sk-label input.sk-toggleable__control:checked~label.sk-toggleable__label {background-color: #d4ebff;}#sk-container-id-1 input.sk-hidden--visually {border: 0;clip: rect(1px 1px 1px 1px);clip: rect(1px, 1px, 1px, 1px);height: 1px;margin: -1px;overflow: hidden;padding: 0;position: absolute;width: 1px;}#sk-container-id-1 div.sk-estimator {font-family: monospace;background-color: #f0f8ff;border: 1px dotted black;border-radius: 0.25em;box-sizing: border-box;margin-bottom: 0.5em;}#sk-container-id-1 div.sk-estimator:hover {background-color: #d4ebff;}#sk-container-id-1 div.sk-parallel-item::after {content: \"\";width: 100%;border-bottom: 1px solid gray;flex-grow: 1;}#sk-container-id-1 div.sk-label:hover label.sk-toggleable__label {background-color: #d4ebff;}#sk-container-id-1 div.sk-serial::before {content: \"\";position: absolute;border-left: 1px solid gray;box-sizing: border-box;top: 0;bottom: 0;left: 50%;z-index: 0;}#sk-container-id-1 div.sk-serial {display: flex;flex-direction: column;align-items: center;background-color: white;padding-right: 0.2em;padding-left: 0.2em;position: relative;}#sk-container-id-1 div.sk-item {position: relative;z-index: 1;}#sk-container-id-1 div.sk-parallel {display: flex;align-items: stretch;justify-content: center;background-color: white;position: relative;}#sk-container-id-1 div.sk-item::before, #sk-container-id-1 div.sk-parallel-item::before {content: \"\";position: absolute;border-left: 1px solid gray;box-sizing: border-box;top: 0;bottom: 0;left: 50%;z-index: -1;}#sk-container-id-1 div.sk-parallel-item {display: flex;flex-direction: column;z-index: 1;position: relative;background-color: white;}#sk-container-id-1 div.sk-parallel-item:first-child::after {align-self: flex-end;width: 50%;}#sk-container-id-1 div.sk-parallel-item:last-child::after {align-self: flex-start;width: 50%;}#sk-container-id-1 div.sk-parallel-item:only-child::after {width: 0;}#sk-container-id-1 div.sk-dashed-wrapped {border: 1px dashed gray;margin: 0 0.4em 0.5em 0.4em;box-sizing: border-box;padding-bottom: 0.4em;background-color: white;}#sk-container-id-1 div.sk-label label {font-family: monospace;font-weight: bold;display: inline-block;line-height: 1.2em;}#sk-container-id-1 div.sk-label-container {text-align: center;}#sk-container-id-1 div.sk-container {/* jupyter's `normalize.less` sets `[hidden] { display: none; }` but bootstrap.min.css set `[hidden] { display: none !important; }` so we also need the `!important` here to be able to override the default hidden behavior on the sphinx rendered scikit-learn.org. See: https://github.com/scikit-learn/scikit-learn/issues/21755 */display: inline-block !important;position: relative;}#sk-container-id-1 div.sk-text-repr-fallback {display: none;}</style><div id=\"sk-container-id-1\" class=\"sk-top-container\"><div class=\"sk-text-repr-fallback\"><pre>RandomizedSearchCV(cv=5, estimator=DecisionTreeRegressor(random_state=42),\n",
       "                   n_iter=100,\n",
       "                   param_distributions={&#x27;criterion&#x27;: [&#x27;mse&#x27;, &#x27;friedman_mse&#x27;,\n",
       "                                                      &#x27;mae&#x27;, &#x27;poisson&#x27;],\n",
       "                                        &#x27;max_depth&#x27;: [None, 10, 20, 30],\n",
       "                                        &#x27;max_features&#x27;: [&#x27;auto&#x27;, &#x27;sqrt&#x27;, &#x27;log2&#x27;,\n",
       "                                                         None],\n",
       "                                        &#x27;min_samples_leaf&#x27;: [1, 2, 4],\n",
       "                                        &#x27;min_samples_split&#x27;: [2, 5, 10],\n",
       "                                        &#x27;min_weight_fraction_leaf&#x27;: [0.0, 0.1,\n",
       "                                                                     0.2],\n",
       "                                        &#x27;random_state&#x27;: [None, 42, 1001],\n",
       "                                        &#x27;splitter&#x27;: [&#x27;best&#x27;, &#x27;random&#x27;]},\n",
       "                   verbose=True)</pre><b>In a Jupyter environment, please rerun this cell to show the HTML representation or trust the notebook. <br />On GitHub, the HTML representation is unable to render, please try loading this page with nbviewer.org.</b></div><div class=\"sk-container\" hidden><div class=\"sk-item sk-dashed-wrapped\"><div class=\"sk-label-container\"><div class=\"sk-label sk-toggleable\"><input class=\"sk-toggleable__control sk-hidden--visually\" id=\"sk-estimator-id-1\" type=\"checkbox\" ><label for=\"sk-estimator-id-1\" class=\"sk-toggleable__label sk-toggleable__label-arrow\">RandomizedSearchCV</label><div class=\"sk-toggleable__content\"><pre>RandomizedSearchCV(cv=5, estimator=DecisionTreeRegressor(random_state=42),\n",
       "                   n_iter=100,\n",
       "                   param_distributions={&#x27;criterion&#x27;: [&#x27;mse&#x27;, &#x27;friedman_mse&#x27;,\n",
       "                                                      &#x27;mae&#x27;, &#x27;poisson&#x27;],\n",
       "                                        &#x27;max_depth&#x27;: [None, 10, 20, 30],\n",
       "                                        &#x27;max_features&#x27;: [&#x27;auto&#x27;, &#x27;sqrt&#x27;, &#x27;log2&#x27;,\n",
       "                                                         None],\n",
       "                                        &#x27;min_samples_leaf&#x27;: [1, 2, 4],\n",
       "                                        &#x27;min_samples_split&#x27;: [2, 5, 10],\n",
       "                                        &#x27;min_weight_fraction_leaf&#x27;: [0.0, 0.1,\n",
       "                                                                     0.2],\n",
       "                                        &#x27;random_state&#x27;: [None, 42, 1001],\n",
       "                                        &#x27;splitter&#x27;: [&#x27;best&#x27;, &#x27;random&#x27;]},\n",
       "                   verbose=True)</pre></div></div></div><div class=\"sk-parallel\"><div class=\"sk-parallel-item\"><div class=\"sk-item\"><div class=\"sk-label-container\"><div class=\"sk-label sk-toggleable\"><input class=\"sk-toggleable__control sk-hidden--visually\" id=\"sk-estimator-id-2\" type=\"checkbox\" ><label for=\"sk-estimator-id-2\" class=\"sk-toggleable__label sk-toggleable__label-arrow\">estimator: DecisionTreeRegressor</label><div class=\"sk-toggleable__content\"><pre>DecisionTreeRegressor(random_state=42)</pre></div></div></div><div class=\"sk-serial\"><div class=\"sk-item\"><div class=\"sk-estimator sk-toggleable\"><input class=\"sk-toggleable__control sk-hidden--visually\" id=\"sk-estimator-id-3\" type=\"checkbox\" ><label for=\"sk-estimator-id-3\" class=\"sk-toggleable__label sk-toggleable__label-arrow\">DecisionTreeRegressor</label><div class=\"sk-toggleable__content\"><pre>DecisionTreeRegressor(random_state=42)</pre></div></div></div></div></div></div></div></div></div></div>"
      ],
      "text/plain": [
       "RandomizedSearchCV(cv=5, estimator=DecisionTreeRegressor(random_state=42),\n",
       "                   n_iter=100,\n",
       "                   param_distributions={'criterion': ['mse', 'friedman_mse',\n",
       "                                                      'mae', 'poisson'],\n",
       "                                        'max_depth': [None, 10, 20, 30],\n",
       "                                        'max_features': ['auto', 'sqrt', 'log2',\n",
       "                                                         None],\n",
       "                                        'min_samples_leaf': [1, 2, 4],\n",
       "                                        'min_samples_split': [2, 5, 10],\n",
       "                                        'min_weight_fraction_leaf': [0.0, 0.1,\n",
       "                                                                     0.2],\n",
       "                                        'random_state': [None, 42, 1001],\n",
       "                                        'splitter': ['best', 'random']},\n",
       "                   verbose=True)"
      ]
     },
     "execution_count": 48,
     "metadata": {},
     "output_type": "execute_result"
    }
   ],
   "source": [
    "%%time\n",
    "# Create a Random Forest Classifier model\n",
    "model = DecisionTreeRegressor(random_state=42)\n",
    "\n",
    "# Create the RandomizedSearchCV object\n",
    "random_search =  RandomizedSearchCV(model ,  \n",
    "                                    param_distributions=param_dict,\n",
    "                                    n_iter=100, \n",
    "                                    cv=5,  \n",
    "                                    verbose=True)\n",
    "\n",
    "\n",
    "# Fit the randomized search to the data\n",
    "random_search.fit(X_train, y_train)"
   ]
  },
  {
   "cell_type": "code",
   "execution_count": 49,
   "id": "f3ac49a2",
   "metadata": {},
   "outputs": [
    {
     "name": "stdout",
     "output_type": "stream",
     "text": [
      "Best Parameters: {'splitter': 'random', 'random_state': None, 'min_weight_fraction_leaf': 0.0, 'min_samples_split': 10, 'min_samples_leaf': 2, 'max_features': None, 'max_depth': None, 'criterion': 'friedman_mse'}\n",
      "Best Score: 0.7141615480938249\n"
     ]
    }
   ],
   "source": [
    "# Print the best parameters and best score\n",
    "print(\"Best Parameters:\", random_search.best_params_)\n",
    "print(\"Best Score:\", random_search.best_score_)"
   ]
  },
  {
   "cell_type": "markdown",
   "id": "0d59c3b2",
   "metadata": {},
   "source": [
    "#### Training the Ideal Model with the Entire Dataset\n",
    "\n",
    "I'm now ready to train the model using the entire dataset for comprehensive learning and prediction."
   ]
  },
  {
   "cell_type": "code",
   "execution_count": 50,
   "id": "dea04c31",
   "metadata": {},
   "outputs": [],
   "source": [
    "# Get the bestRandomForestRegressorgressorgressorr Logistic Regression\n",
    "best_params = random_search.best_params_\n",
    "\n",
    "# Create a Logistic Regression model with the best params\n",
    "ideal_model = DecisionTreeRegressor(**best_params)"
   ]
  },
  {
   "cell_type": "code",
   "execution_count": 51,
   "id": "5db58b10",
   "metadata": {},
   "outputs": [
    {
     "data": {
      "text/plain": [
       "(3000888, 19)"
      ]
     },
     "execution_count": 51,
     "metadata": {},
     "output_type": "execute_result"
    }
   ],
   "source": [
    "# Train the model with all the data \n",
    "# Split data into X & y\n",
    "X = train_data.drop('sales', axis=1)\n",
    "y = train_data['sales']\n",
    "\n",
    "# Splitting the data into training and validation sets\n",
    "X_train, X_val, y_train, y_val = train_test_split(X, y, random_state=42, train_size=0.2)\n",
    "X.shape"
   ]
  },
  {
   "cell_type": "code",
   "execution_count": 52,
   "id": "3f8ef1e5",
   "metadata": {},
   "outputs": [
    {
     "name": "stdout",
     "output_type": "stream",
     "text": [
      "CPU times: total: 2.56 s\n",
      "Wall time: 2.66 s\n"
     ]
    },
    {
     "data": {
      "text/html": [
       "<style>#sk-container-id-2 {color: black;}#sk-container-id-2 pre{padding: 0;}#sk-container-id-2 div.sk-toggleable {background-color: white;}#sk-container-id-2 label.sk-toggleable__label {cursor: pointer;display: block;width: 100%;margin-bottom: 0;padding: 0.3em;box-sizing: border-box;text-align: center;}#sk-container-id-2 label.sk-toggleable__label-arrow:before {content: \"▸\";float: left;margin-right: 0.25em;color: #696969;}#sk-container-id-2 label.sk-toggleable__label-arrow:hover:before {color: black;}#sk-container-id-2 div.sk-estimator:hover label.sk-toggleable__label-arrow:before {color: black;}#sk-container-id-2 div.sk-toggleable__content {max-height: 0;max-width: 0;overflow: hidden;text-align: left;background-color: #f0f8ff;}#sk-container-id-2 div.sk-toggleable__content pre {margin: 0.2em;color: black;border-radius: 0.25em;background-color: #f0f8ff;}#sk-container-id-2 input.sk-toggleable__control:checked~div.sk-toggleable__content {max-height: 200px;max-width: 100%;overflow: auto;}#sk-container-id-2 input.sk-toggleable__control:checked~label.sk-toggleable__label-arrow:before {content: \"▾\";}#sk-container-id-2 div.sk-estimator input.sk-toggleable__control:checked~label.sk-toggleable__label {background-color: #d4ebff;}#sk-container-id-2 div.sk-label input.sk-toggleable__control:checked~label.sk-toggleable__label {background-color: #d4ebff;}#sk-container-id-2 input.sk-hidden--visually {border: 0;clip: rect(1px 1px 1px 1px);clip: rect(1px, 1px, 1px, 1px);height: 1px;margin: -1px;overflow: hidden;padding: 0;position: absolute;width: 1px;}#sk-container-id-2 div.sk-estimator {font-family: monospace;background-color: #f0f8ff;border: 1px dotted black;border-radius: 0.25em;box-sizing: border-box;margin-bottom: 0.5em;}#sk-container-id-2 div.sk-estimator:hover {background-color: #d4ebff;}#sk-container-id-2 div.sk-parallel-item::after {content: \"\";width: 100%;border-bottom: 1px solid gray;flex-grow: 1;}#sk-container-id-2 div.sk-label:hover label.sk-toggleable__label {background-color: #d4ebff;}#sk-container-id-2 div.sk-serial::before {content: \"\";position: absolute;border-left: 1px solid gray;box-sizing: border-box;top: 0;bottom: 0;left: 50%;z-index: 0;}#sk-container-id-2 div.sk-serial {display: flex;flex-direction: column;align-items: center;background-color: white;padding-right: 0.2em;padding-left: 0.2em;position: relative;}#sk-container-id-2 div.sk-item {position: relative;z-index: 1;}#sk-container-id-2 div.sk-parallel {display: flex;align-items: stretch;justify-content: center;background-color: white;position: relative;}#sk-container-id-2 div.sk-item::before, #sk-container-id-2 div.sk-parallel-item::before {content: \"\";position: absolute;border-left: 1px solid gray;box-sizing: border-box;top: 0;bottom: 0;left: 50%;z-index: -1;}#sk-container-id-2 div.sk-parallel-item {display: flex;flex-direction: column;z-index: 1;position: relative;background-color: white;}#sk-container-id-2 div.sk-parallel-item:first-child::after {align-self: flex-end;width: 50%;}#sk-container-id-2 div.sk-parallel-item:last-child::after {align-self: flex-start;width: 50%;}#sk-container-id-2 div.sk-parallel-item:only-child::after {width: 0;}#sk-container-id-2 div.sk-dashed-wrapped {border: 1px dashed gray;margin: 0 0.4em 0.5em 0.4em;box-sizing: border-box;padding-bottom: 0.4em;background-color: white;}#sk-container-id-2 div.sk-label label {font-family: monospace;font-weight: bold;display: inline-block;line-height: 1.2em;}#sk-container-id-2 div.sk-label-container {text-align: center;}#sk-container-id-2 div.sk-container {/* jupyter's `normalize.less` sets `[hidden] { display: none; }` but bootstrap.min.css set `[hidden] { display: none !important; }` so we also need the `!important` here to be able to override the default hidden behavior on the sphinx rendered scikit-learn.org. See: https://github.com/scikit-learn/scikit-learn/issues/21755 */display: inline-block !important;position: relative;}#sk-container-id-2 div.sk-text-repr-fallback {display: none;}</style><div id=\"sk-container-id-2\" class=\"sk-top-container\"><div class=\"sk-text-repr-fallback\"><pre>DecisionTreeRegressor(criterion=&#x27;friedman_mse&#x27;, min_samples_leaf=2,\n",
       "                      min_samples_split=10, splitter=&#x27;random&#x27;)</pre><b>In a Jupyter environment, please rerun this cell to show the HTML representation or trust the notebook. <br />On GitHub, the HTML representation is unable to render, please try loading this page with nbviewer.org.</b></div><div class=\"sk-container\" hidden><div class=\"sk-item\"><div class=\"sk-estimator sk-toggleable\"><input class=\"sk-toggleable__control sk-hidden--visually\" id=\"sk-estimator-id-4\" type=\"checkbox\" checked><label for=\"sk-estimator-id-4\" class=\"sk-toggleable__label sk-toggleable__label-arrow\">DecisionTreeRegressor</label><div class=\"sk-toggleable__content\"><pre>DecisionTreeRegressor(criterion=&#x27;friedman_mse&#x27;, min_samples_leaf=2,\n",
       "                      min_samples_split=10, splitter=&#x27;random&#x27;)</pre></div></div></div></div></div>"
      ],
      "text/plain": [
       "DecisionTreeRegressor(criterion='friedman_mse', min_samples_leaf=2,\n",
       "                      min_samples_split=10, splitter='random')"
      ]
     },
     "execution_count": 52,
     "metadata": {},
     "output_type": "execute_result"
    }
   ],
   "source": [
    "%%time\n",
    "ideal_model.fit(X_train, y_train)"
   ]
  },
  {
   "cell_type": "code",
   "execution_count": 53,
   "id": "93b8c08f",
   "metadata": {},
   "outputs": [
    {
     "data": {
      "text/plain": [
       "0.654985795147849"
      ]
     },
     "execution_count": 53,
     "metadata": {},
     "output_type": "execute_result"
    }
   ],
   "source": [
    "np.sqrt(mean_squared_log_error(y_val, ideal_model.predict(X_val)))"
   ]
  },
  {
   "cell_type": "markdown",
   "id": "a40896d7",
   "metadata": {},
   "source": [
    "### Feature Importance\n",
    "I will perform feature importance analysis to understand the significance of each feature in our dataset. Feature importance analysis is crucial in machine learning, as it helps me identify which features have the most impact on the model's predictions. I am going to create a function for that.\n",
    "\n",
    "The `plot_features` function:\n",
    "   * Visualizes feature importances using a bar plot.\n",
    "   * Takes two parameters: columns (a list of feature names) and importances (a list of feature importances).\n",
    "   * Sorts and plots features by importance, helping identify influential features in a machine learning model's predictions."
   ]
  },
  {
   "cell_type": "code",
   "execution_count": 54,
   "id": "e3636d9d",
   "metadata": {},
   "outputs": [],
   "source": [
    "def plot_features(columns, importances):\n",
    "    df = pd.DataFrame({\"features\": columns,\n",
    "                       \"features_importances\": importances})\n",
    "    df_sorted = df.sort_values(\"features_importances\", ascending=False).reset_index(drop=True)\n",
    "    \n",
    "    # Set up the plot\n",
    "    plt.figure(figsize=(10, 4))\n",
    "    sns.barplot(x=\"features_importances\", y=\"features\", data=df_sorted, palette=\"viridis\")\n",
    "    \n",
    "    # Customize the plot\n",
    "    plt.xlabel(\"Feature Importances\")\n",
    "    plt.ylabel(\"Features\")\n",
    "    plt.title(f\" Important Features\")\n",
    "    \n",
    "    plt.show()"
   ]
  },
  {
   "cell_type": "code",
   "execution_count": 55,
   "id": "77b61946",
   "metadata": {},
   "outputs": [
    {
     "data": {
      "image/png": "[encoded data removed]",
      "text/plain": [
       "<Figure size 1000x400 with 1 Axes>"
      ]
     },
     "metadata": {},
     "output_type": "display_data"
    }
   ],
   "source": [
    "plot_features(X_train.columns, ideal_model.feature_importances_)"
   ]
  },
  {
   "cell_type": "markdown",
   "id": "fce44f51",
   "metadata": {},
   "source": [
    "<br>\n",
    "<br>\n",
    "<div style=\"border-top: 1px solid;\"></div>\n",
    "\n",
    "## Predicting Sales for Various Product Families\n",
    "\n",
    "I will guide you through the process of preparing the data and predicting sales for different product families. My goal is to use the trained ideal model to make predictions about the sales of various product families based on the features in the dataset.\n",
    "\n",
    "### Loading and Exploring the Test Data\n",
    "1. **Data Loading:** I start by loading the details of these passengers from the \"test.csv\" file.\n",
    "\n",
    "2. **Preparation:** I preprocess the data, addressing missing values and converting categorical features for accurate predictions.\n",
    "\n",
    "3. **Feature Scaling:** To ensure consistent predictions, I scale the features appropriately.\n",
    "\n",
    "4. **Prediction:** Leveraging the trained `ideal_model`, I predict the transported status for each remaining passenger.\n",
    "\n",
    "5. **Result Creation:** I compile these predictions into a DataFrame named `result_df`.\n",
    "\n",
    "6. **Display:** I present the initial predictions, providing an overview.\n"
   ]
  },
  {
   "cell_type": "code",
   "execution_count": 56,
   "id": "2bf435f8",
   "metadata": {},
   "outputs": [
    {
     "data": {
      "text/html": [
       "<div>\n",
       "<style scoped>\n",
       "    .dataframe tbody tr th:only-of-type {\n",
       "        vertical-align: middle;\n",
       "    }\n",
       "\n",
       "    .dataframe tbody tr th {\n",
       "        vertical-align: top;\n",
       "    }\n",
       "\n",
       "    .dataframe thead th {\n",
       "        text-align: right;\n",
       "    }\n",
       "</style>\n",
       "<table border=\"1\" class=\"dataframe\">\n",
       "  <thead>\n",
       "    <tr style=\"text-align: right;\">\n",
       "      <th></th>\n",
       "      <th>id</th>\n",
       "      <th>date</th>\n",
       "      <th>store_nbr</th>\n",
       "      <th>family</th>\n",
       "      <th>onpromotion</th>\n",
       "    </tr>\n",
       "  </thead>\n",
       "  <tbody>\n",
       "    <tr>\n",
       "      <th>0</th>\n",
       "      <td>3000888</td>\n",
       "      <td>2017-08-16</td>\n",
       "      <td>1</td>\n",
       "      <td>AUTOMOTIVE</td>\n",
       "      <td>0</td>\n",
       "    </tr>\n",
       "    <tr>\n",
       "      <th>1</th>\n",
       "      <td>3000889</td>\n",
       "      <td>2017-08-16</td>\n",
       "      <td>1</td>\n",
       "      <td>BABY CARE</td>\n",
       "      <td>0</td>\n",
       "    </tr>\n",
       "    <tr>\n",
       "      <th>2</th>\n",
       "      <td>3000890</td>\n",
       "      <td>2017-08-16</td>\n",
       "      <td>1</td>\n",
       "      <td>BEAUTY</td>\n",
       "      <td>2</td>\n",
       "    </tr>\n",
       "    <tr>\n",
       "      <th>3</th>\n",
       "      <td>3000891</td>\n",
       "      <td>2017-08-16</td>\n",
       "      <td>1</td>\n",
       "      <td>BEVERAGES</td>\n",
       "      <td>20</td>\n",
       "    </tr>\n",
       "    <tr>\n",
       "      <th>4</th>\n",
       "      <td>3000892</td>\n",
       "      <td>2017-08-16</td>\n",
       "      <td>1</td>\n",
       "      <td>BOOKS</td>\n",
       "      <td>0</td>\n",
       "    </tr>\n",
       "  </tbody>\n",
       "</table>\n",
       "</div>"
      ],
      "text/plain": [
       "        id        date  store_nbr      family  onpromotion\n",
       "0  3000888  2017-08-16          1  AUTOMOTIVE            0\n",
       "1  3000889  2017-08-16          1   BABY CARE            0\n",
       "2  3000890  2017-08-16          1      BEAUTY            2\n",
       "3  3000891  2017-08-16          1   BEVERAGES           20\n",
       "4  3000892  2017-08-16          1       BOOKS            0"
      ]
     },
     "execution_count": 56,
     "metadata": {},
     "output_type": "execute_result"
    }
   ],
   "source": [
    "# Load the test data for prediction\n",
    "test_data = pd.read_csv(\"sales-time-forecast-datasets/test.csv\")\n",
    "test_data.head()"
   ]
  },
  {
   "cell_type": "code",
   "execution_count": 57,
   "id": "dac4c60e",
   "metadata": {},
   "outputs": [
    {
     "name": "stdout",
     "output_type": "stream",
     "text": [
      "<class 'pandas.core.frame.DataFrame'>\n",
      "RangeIndex: 28512 entries, 0 to 28511\n",
      "Data columns (total 5 columns):\n",
      " #   Column       Non-Null Count  Dtype \n",
      "---  ------       --------------  ----- \n",
      " 0   id           28512 non-null  int64 \n",
      " 1   date         28512 non-null  object\n",
      " 2   store_nbr    28512 non-null  int64 \n",
      " 3   family       28512 non-null  object\n",
      " 4   onpromotion  28512 non-null  int64 \n",
      "dtypes: int64(3), object(2)\n",
      "memory usage: 1.1+ MB\n"
     ]
    }
   ],
   "source": [
    "# Display information about the data types and missing values in the test data\n",
    "test_data.info()"
   ]
  },
  {
   "cell_type": "code",
   "execution_count": 58,
   "id": "02747909",
   "metadata": {},
   "outputs": [],
   "source": [
    "# Convert the date column to datetime\n",
    "test_data['date'] = pd.to_datetime(test_data['date'])"
   ]
  },
  {
   "cell_type": "code",
   "execution_count": 59,
   "id": "b76cfb4f",
   "metadata": {},
   "outputs": [
    {
     "data": {
      "text/plain": [
       "Index(['id', 'date', 'store_nbr', 'family', 'onpromotion', 'year', 'month',\n",
       "       'day', 'day_of_week', 'is_weekend', 'is_weekday', 'is_promotion',\n",
       "       'promotions_last_7_days', 'promotion_last_7_days', 'is_holiday', 'city',\n",
       "       'state', 'type', 'cluster', 'dcoilwtico'],\n",
       "      dtype='object')"
      ]
     },
     "execution_count": 59,
     "metadata": {},
     "output_type": "execute_result"
    }
   ],
   "source": [
    "# Creating new features with the create features function \n",
    "test_data = create_features(test_data, holiday_data, stores_data, oil_data, transactions_data)\n",
    "test_data.columns"
   ]
  },
  {
   "cell_type": "code",
   "execution_count": 60,
   "id": "ee087ca4",
   "metadata": {},
   "outputs": [
    {
     "name": "stdout",
     "output_type": "stream",
     "text": [
      "Processing data...\n",
      "Final missing value counts:\n",
      "id                        0\n",
      "date                      0\n",
      "store_nbr                 0\n",
      "family                    0\n",
      "onpromotion               0\n",
      "year                      0\n",
      "month                     0\n",
      "day                       0\n",
      "day_of_week               0\n",
      "is_weekend                0\n",
      "is_weekday                0\n",
      "is_promotion              0\n",
      "promotions_last_7_days    0\n",
      "promotion_last_7_days     0\n",
      "is_holiday                0\n",
      "city                      0\n",
      "state                     0\n",
      "type                      0\n",
      "cluster                   0\n",
      "dcoilwtico                0\n",
      "dtype: int64\n"
     ]
    }
   ],
   "source": [
    "# Fill the missing values with the function i wrote above\n",
    "fill_missing_values(test_data)\n"
   ]
  },
  {
   "cell_type": "code",
   "execution_count": 61,
   "id": "0e840950",
   "metadata": {},
   "outputs": [],
   "source": [
    "# Delete the date column\n",
    "test_data.drop(\"date\", axis=1, inplace=True)"
   ]
  },
  {
   "cell_type": "code",
   "execution_count": 62,
   "id": "e02b1228",
   "metadata": {},
   "outputs": [
    {
     "data": {
      "text/plain": [
       "(28512, 19)"
      ]
     },
     "execution_count": 62,
     "metadata": {},
     "output_type": "execute_result"
    }
   ],
   "source": [
    "# Check the shape of test data\n",
    "test_data.shape"
   ]
  },
  {
   "cell_type": "code",
   "execution_count": 63,
   "id": "c5c81cb2",
   "metadata": {},
   "outputs": [
    {
     "data": {
      "text/plain": [
       "(600177, 19)"
      ]
     },
     "execution_count": 63,
     "metadata": {},
     "output_type": "execute_result"
    }
   ],
   "source": [
    "# Check the shape of train data\n",
    "X_train.shape"
   ]
  },
  {
   "cell_type": "markdown",
   "id": "d76f83ef",
   "metadata": {},
   "source": [
    "As both dataframes share the same column, I can proceed to encode the categorical features, thereby preparing the data for prediction."
   ]
  },
  {
   "cell_type": "code",
   "execution_count": 64,
   "id": "a62f9452",
   "metadata": {},
   "outputs": [
    {
     "name": "stdout",
     "output_type": "stream",
     "text": [
      "Categorical variables in `Test` data have been successfully encoded into numerical codes.\n",
      "----------------------------------------------------------------------------------------------------\n"
     ]
    }
   ],
   "source": [
    "test_data = encode_categorical_features(test_data, \"Test\")"
   ]
  },
  {
   "cell_type": "code",
   "execution_count": 65,
   "id": "18fd8546",
   "metadata": {},
   "outputs": [
    {
     "name": "stdout",
     "output_type": "stream",
     "text": [
      "<class 'pandas.core.frame.DataFrame'>\n",
      "RangeIndex: 28512 entries, 0 to 28511\n",
      "Data columns (total 19 columns):\n",
      " #   Column                  Non-Null Count  Dtype  \n",
      "---  ------                  --------------  -----  \n",
      " 0   id                      28512 non-null  int64  \n",
      " 1   store_nbr               28512 non-null  int64  \n",
      " 2   family                  28512 non-null  int8   \n",
      " 3   onpromotion             28512 non-null  int64  \n",
      " 4   year                    28512 non-null  int32  \n",
      " 5   month                   28512 non-null  int32  \n",
      " 6   day                     28512 non-null  int32  \n",
      " 7   day_of_week             28512 non-null  int32  \n",
      " 8   is_weekend              28512 non-null  int32  \n",
      " 9   is_weekday              28512 non-null  int32  \n",
      " 10  is_promotion            28512 non-null  int64  \n",
      " 11  promotions_last_7_days  28512 non-null  float64\n",
      " 12  promotion_last_7_days   28512 non-null  int64  \n",
      " 13  is_holiday              28512 non-null  int64  \n",
      " 14  city                    28512 non-null  int8   \n",
      " 15  state                   28512 non-null  int8   \n",
      " 16  type                    28512 non-null  int8   \n",
      " 17  cluster                 28512 non-null  int64  \n",
      " 18  dcoilwtico              28512 non-null  float64\n",
      "dtypes: float64(2), int32(6), int64(7), int8(4)\n",
      "memory usage: 2.7 MB\n"
     ]
    }
   ],
   "source": [
    "test_data.info()"
   ]
  },
  {
   "cell_type": "code",
   "execution_count": 66,
   "id": "b8fd73d9",
   "metadata": {},
   "outputs": [
    {
     "data": {
      "text/html": [
       "<div>\n",
       "<style scoped>\n",
       "    .dataframe tbody tr th:only-of-type {\n",
       "        vertical-align: middle;\n",
       "    }\n",
       "\n",
       "    .dataframe tbody tr th {\n",
       "        vertical-align: top;\n",
       "    }\n",
       "\n",
       "    .dataframe thead th {\n",
       "        text-align: right;\n",
       "    }\n",
       "</style>\n",
       "<table border=\"1\" class=\"dataframe\">\n",
       "  <thead>\n",
       "    <tr style=\"text-align: right;\">\n",
       "      <th></th>\n",
       "      <th>id</th>\n",
       "      <th>store_nbr</th>\n",
       "      <th>family</th>\n",
       "      <th>onpromotion</th>\n",
       "      <th>year</th>\n",
       "      <th>month</th>\n",
       "      <th>day</th>\n",
       "      <th>day_of_week</th>\n",
       "      <th>is_weekend</th>\n",
       "      <th>is_weekday</th>\n",
       "      <th>is_promotion</th>\n",
       "      <th>promotions_last_7_days</th>\n",
       "      <th>promotion_last_7_days</th>\n",
       "      <th>is_holiday</th>\n",
       "      <th>city</th>\n",
       "      <th>state</th>\n",
       "      <th>type</th>\n",
       "      <th>cluster</th>\n",
       "      <th>dcoilwtico</th>\n",
       "    </tr>\n",
       "  </thead>\n",
       "  <tbody>\n",
       "    <tr>\n",
       "      <th>0</th>\n",
       "      <td>3000888</td>\n",
       "      <td>1</td>\n",
       "      <td>1</td>\n",
       "      <td>0</td>\n",
       "      <td>2017</td>\n",
       "      <td>8</td>\n",
       "      <td>16</td>\n",
       "      <td>2</td>\n",
       "      <td>0</td>\n",
       "      <td>1</td>\n",
       "      <td>0</td>\n",
       "      <td>0.0</td>\n",
       "      <td>0</td>\n",
       "      <td>0</td>\n",
       "      <td>19</td>\n",
       "      <td>13</td>\n",
       "      <td>4</td>\n",
       "      <td>13</td>\n",
       "      <td>46.8</td>\n",
       "    </tr>\n",
       "    <tr>\n",
       "      <th>1</th>\n",
       "      <td>3000889</td>\n",
       "      <td>1</td>\n",
       "      <td>2</td>\n",
       "      <td>0</td>\n",
       "      <td>2017</td>\n",
       "      <td>8</td>\n",
       "      <td>16</td>\n",
       "      <td>2</td>\n",
       "      <td>0</td>\n",
       "      <td>1</td>\n",
       "      <td>0</td>\n",
       "      <td>0.0</td>\n",
       "      <td>0</td>\n",
       "      <td>0</td>\n",
       "      <td>19</td>\n",
       "      <td>13</td>\n",
       "      <td>4</td>\n",
       "      <td>13</td>\n",
       "      <td>46.8</td>\n",
       "    </tr>\n",
       "    <tr>\n",
       "      <th>2</th>\n",
       "      <td>3000890</td>\n",
       "      <td>1</td>\n",
       "      <td>3</td>\n",
       "      <td>2</td>\n",
       "      <td>2017</td>\n",
       "      <td>8</td>\n",
       "      <td>16</td>\n",
       "      <td>2</td>\n",
       "      <td>0</td>\n",
       "      <td>1</td>\n",
       "      <td>0</td>\n",
       "      <td>0.0</td>\n",
       "      <td>0</td>\n",
       "      <td>0</td>\n",
       "      <td>19</td>\n",
       "      <td>13</td>\n",
       "      <td>4</td>\n",
       "      <td>13</td>\n",
       "      <td>46.8</td>\n",
       "    </tr>\n",
       "    <tr>\n",
       "      <th>3</th>\n",
       "      <td>3000891</td>\n",
       "      <td>1</td>\n",
       "      <td>4</td>\n",
       "      <td>20</td>\n",
       "      <td>2017</td>\n",
       "      <td>8</td>\n",
       "      <td>16</td>\n",
       "      <td>2</td>\n",
       "      <td>0</td>\n",
       "      <td>1</td>\n",
       "      <td>0</td>\n",
       "      <td>0.0</td>\n",
       "      <td>0</td>\n",
       "      <td>0</td>\n",
       "      <td>19</td>\n",
       "      <td>13</td>\n",
       "      <td>4</td>\n",
       "      <td>13</td>\n",
       "      <td>46.8</td>\n",
       "    </tr>\n",
       "    <tr>\n",
       "      <th>4</th>\n",
       "      <td>3000892</td>\n",
       "      <td>1</td>\n",
       "      <td>5</td>\n",
       "      <td>0</td>\n",
       "      <td>2017</td>\n",
       "      <td>8</td>\n",
       "      <td>16</td>\n",
       "      <td>2</td>\n",
       "      <td>0</td>\n",
       "      <td>1</td>\n",
       "      <td>0</td>\n",
       "      <td>0.0</td>\n",
       "      <td>0</td>\n",
       "      <td>0</td>\n",
       "      <td>19</td>\n",
       "      <td>13</td>\n",
       "      <td>4</td>\n",
       "      <td>13</td>\n",
       "      <td>46.8</td>\n",
       "    </tr>\n",
       "  </tbody>\n",
       "</table>\n",
       "</div>"
      ],
      "text/plain": [
       "        id  store_nbr  family  onpromotion  year  month  day  day_of_week  \\\n",
       "0  3000888          1       1            0  2017      8   16            2   \n",
       "1  3000889          1       2            0  2017      8   16            2   \n",
       "2  3000890          1       3            2  2017      8   16            2   \n",
       "3  3000891          1       4           20  2017      8   16            2   \n",
       "4  3000892          1       5            0  2017      8   16            2   \n",
       "\n",
       "   is_weekend  is_weekday  is_promotion  promotions_last_7_days  \\\n",
       "0           0           1             0                     0.0   \n",
       "1           0           1             0                     0.0   \n",
       "2           0           1             0                     0.0   \n",
       "3           0           1             0                     0.0   \n",
       "4           0           1             0                     0.0   \n",
       "\n",
       "   promotion_last_7_days  is_holiday  city  state  type  cluster  dcoilwtico  \n",
       "0                      0           0    19     13     4       13        46.8  \n",
       "1                      0           0    19     13     4       13        46.8  \n",
       "2                      0           0    19     13     4       13        46.8  \n",
       "3                      0           0    19     13     4       13        46.8  \n",
       "4                      0           0    19     13     4       13        46.8  "
      ]
     },
     "execution_count": 66,
     "metadata": {},
     "output_type": "execute_result"
    }
   ],
   "source": [
    "test_data.head()"
   ]
  },
  {
   "cell_type": "markdown",
   "id": "d803300a",
   "metadata": {},
   "source": [
    "### Making Predictions for Product Families\n",
    "\n",
    "Now, I'm utilizing the previously trained model to make predictions regarding the product families. By providing the model with the available information on these product families, it assists me in making informed guesses about their sales outcomes. This process helps fill in the missing pieces of the sales story and provides insights into what might have transpired during the sales journey."
   ]
  },
  {
   "cell_type": "code",
   "execution_count": 67,
   "id": "fcb34ed7",
   "metadata": {},
   "outputs": [],
   "source": [
    "# Predict test data\n",
    "predicted_sales = ideal_model.predict(test_data)"
   ]
  },
  {
   "cell_type": "code",
   "execution_count": 68,
   "id": "6a337799",
   "metadata": {},
   "outputs": [
    {
     "data": {
      "text/html": [
       "<div>\n",
       "<style scoped>\n",
       "    .dataframe tbody tr th:only-of-type {\n",
       "        vertical-align: middle;\n",
       "    }\n",
       "\n",
       "    .dataframe tbody tr th {\n",
       "        vertical-align: top;\n",
       "    }\n",
       "\n",
       "    .dataframe thead th {\n",
       "        text-align: right;\n",
       "    }\n",
       "</style>\n",
       "<table border=\"1\" class=\"dataframe\">\n",
       "  <thead>\n",
       "    <tr style=\"text-align: right;\">\n",
       "      <th></th>\n",
       "      <th>id</th>\n",
       "      <th>sales</th>\n",
       "    </tr>\n",
       "  </thead>\n",
       "  <tbody>\n",
       "    <tr>\n",
       "      <th>0</th>\n",
       "      <td>3000888</td>\n",
       "      <td>4.875000</td>\n",
       "    </tr>\n",
       "    <tr>\n",
       "      <th>1</th>\n",
       "      <td>3000889</td>\n",
       "      <td>0.000000</td>\n",
       "    </tr>\n",
       "    <tr>\n",
       "      <th>2</th>\n",
       "      <td>3000890</td>\n",
       "      <td>3.250000</td>\n",
       "    </tr>\n",
       "    <tr>\n",
       "      <th>3</th>\n",
       "      <td>3000891</td>\n",
       "      <td>893.666667</td>\n",
       "    </tr>\n",
       "    <tr>\n",
       "      <th>4</th>\n",
       "      <td>3000892</td>\n",
       "      <td>0.000000</td>\n",
       "    </tr>\n",
       "  </tbody>\n",
       "</table>\n",
       "</div>"
      ],
      "text/plain": [
       "        id       sales\n",
       "0  3000888    4.875000\n",
       "1  3000889    0.000000\n",
       "2  3000890    3.250000\n",
       "3  3000891  893.666667\n",
       "4  3000892    0.000000"
      ]
     },
     "execution_count": 68,
     "metadata": {},
     "output_type": "execute_result"
    }
   ],
   "source": [
    "# Create a DataFrame to hold the results\n",
    "result_df  = pd.DataFrame()\n",
    "\n",
    "# Extract PassengerId from passenger_data_test and add it to the DataFrame\n",
    "result_df[\"id\"] = np.array(test_data['id'])\n",
    "\n",
    "# Add the predictions of transported status to the DataFrame\n",
    "result_df[\"sales\"] = predicted_sales\n",
    "\n",
    "# Display the first few rows of the resulting DataFrame\n",
    "result_df.head()"
   ]
  },
  {
   "cell_type": "code",
   "execution_count": 69,
   "id": "a1e1fa9e",
   "metadata": {},
   "outputs": [],
   "source": [
    "result_df.to_csv(\"sales-time-forecast-datasets/sales_predictions.csv\", index=False)"
   ]
  },
  {
   "cell_type": "code",
   "execution_count": null,
   "id": "644ade39",
   "metadata": {},
   "outputs": [],
   "source": []
  }
 ],
 "metadata": {
  "kernelspec": {
   "display_name": "Python 3 (ipykernel)",
   "language": "python",
   "name": "python3"
  },
  "language_info": {
   "codemirror_mode": {
    "name": "ipython",
    "version": 3
   },
   "file_extension": ".py",
   "mimetype": "text/x-python",
   "name": "python",
   "nbconvert_exporter": "python",
   "pygments_lexer": "ipython3",
   "version": "3.10.12"
  }
 },
 "nbformat": 4,
 "nbformat_minor": 5
}
